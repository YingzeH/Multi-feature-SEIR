{
 "cells": [
  {
   "cell_type": "code",
   "execution_count": 144,
   "id": "7b4236b2",
   "metadata": {},
   "outputs": [],
   "source": [
    "import gurobipy as gp\n",
    "from gurobipy import GRB\n",
    "from gurobipy import *\n",
    "\n",
    "import numpy as np\n",
    "import pandas as pd\n",
    "from IPython.display import display\n",
    "\n",
    "import math\n",
    "import matplotlib.pyplot as plt\n",
    "from matplotlib.pyplot import figure\n",
    "from PIL import Image\n",
    "\n",
    "from tabulate import tabulate\n",
    "import statistics as st\n",
    "import random\n",
    "import copy\n",
    "\n",
    "import seaborn as sns\n",
    "\n",
    "import time\n",
    "\n",
    "import csv"
   ]
  },
  {
   "cell_type": "code",
   "execution_count": 45,
   "id": "3e7f814d",
   "metadata": {},
   "outputs": [],
   "source": [
    "def SEIR_simulation(\n",
    "        \n",
    "### (1) Input       \n",
    "        \n",
    "# (1.1) Population\n",
    "    terminal_time,               #::Int64,\n",
    "    susceptible_population,      #::Int64,\n",
    "    exposed_population,          #::Int64,\n",
    "    recovered_population,       #::Int64,\n",
    "    infected_population,         #::Int64,\n",
    "    cured_population,            #::Int64,\n",
    "    deaded_population,           #::Int64,\n",
    "        \n",
    "# (1.2) contact rate & proportion\n",
    "    contact_rate,                #::Vector,\n",
    "    contact_rate_proportion,     #::Vector,   \n",
    "        \n",
    "# (1.3) sensitivity (SEIR parameters)\n",
    "    infection_rate,              #::Vector,\n",
    "    exposed_to_infected_rate,    #::Vector,\n",
    "    recovery_rate_for_exposed,   #::Vector,\n",
    "    cured_rate_for_infected,     #::Vector,\n",
    "    death_rate,                  #::Vector,\n",
    "    sensitivity_proportion,      #::Vector,\n",
    "        \n",
    "# (1.4) vaccination strategy\n",
    "    vaccination_strategy,        #::Function,\n",
    "    vaccine_efficacy,            #::Float64,\n",
    "    vaccine_coverage_time,       #::Int64,\n",
    "    total_time_for_greedy,\n",
    "        \n",
    "# (1.5) Output form\n",
    "    output_presenting_function):  #::Function\n",
    "    \n",
    "    \n",
    "### (2) Define parameters for all group divisions based on activity and sensitivity\n",
    "    sensitivity_number = len(sensitivity_proportion)\n",
    "    activity_number = len(contact_rate_proportion)\n",
    "    N_0 = susceptible_population + exposed_population + recovered_population + infected_population + cured_population\n",
    "    \n",
    "    division_number = sensitivity_number * activity_number     # number of divisions\n",
    "    c = np.zeros(division_number)          # contact rate\n",
    "    p = np.zeros(division_number)          # proportion\n",
    "    lambdas = np.zeros(division_number)          # lamda, Infection rate\n",
    "    gammas = np.zeros(division_number)          # gamma, Exposed to infected rate\n",
    "    sigma_Es = np.zeros(division_number)          # sigma_E, Recovery rate for exposed\n",
    "    sigma_Is = np.zeros(division_number)          # sigma_I, Cured rate for infected\n",
    "    deltas = np.zeros(division_number)          # delta, death rate (case fatality rate)\n",
    "\n",
    "    for j in range(0,activity_number):\n",
    "        for i in range(0,sensitivity_number):\n",
    "            c[(j)*sensitivity_number+i] = contact_rate[j]\n",
    "            p[(j)*sensitivity_number+i] = contact_rate_proportion[j]*sensitivity_proportion[i]\n",
    "            lambdas[(j)*sensitivity_number+i] = infection_rate[i]\n",
    "            gammas[(j)*sensitivity_number+i] = exposed_to_infected_rate[i]\n",
    "            sigma_Es[(j)*sensitivity_number+i] = recovery_rate_for_exposed[i]\n",
    "            sigma_Is[(j)*sensitivity_number+i] = cured_rate_for_infected[i]\n",
    "            deltas[(j)*sensitivity_number+i] = death_rate[i]\n",
    "        # end for i\n",
    "    # end for j\n",
    "\n",
    "# (2.1) Show all the parameters for each division (not be printed out)\n",
    "    Sensitivity_Matrix = np.zeros((7, division_number))\n",
    "    Sensitivity_Matrix[0] = p        ; Sensitivity_Matrix[1] = c      \n",
    "    Sensitivity_Matrix[2] = lambdas  ; Sensitivity_Matrix[3] = gammas  \n",
    "    Sensitivity_Matrix[4] = sigma_Es ; Sensitivity_Matrix[5] = sigma_Is\n",
    "    Sensitivity_Matrix[6] = deltas \n",
    "    Sensitivity_Matrix_df = pd.DataFrame(Sensitivity_Matrix.T)\n",
    "    colnames = [\"Proportion\",\"Contact rate\",\"Infection rate\",\"Exposed to infected\",\"Recovery rate\",\"Cured rate\",\"Death rate\"]\n",
    "    Sensitivity_Matrix_df.columns = colnames\n",
    "    \n",
    "### (3) Prepare to record population in each division for all time\n",
    "    S = np.zeros((terminal_time+1, division_number))\n",
    "    dS = np.zeros((terminal_time+1, division_number))\n",
    "    E = np.zeros((terminal_time+1, division_number))\n",
    "    R = np.zeros((terminal_time+1, division_number)) \n",
    "    I = np.zeros((terminal_time+1, division_number))\n",
    "    C = np.zeros((terminal_time+1, division_number))\n",
    "    D = np.zeros((terminal_time+1, division_number))\n",
    "    dD = np.zeros((terminal_time, division_number)) \n",
    "    N = np.zeros((terminal_time+1, division_number))\n",
    "    V = np.zeros((terminal_time+1, division_number))         # V records vaccinated population of each period \n",
    "    Immunized = np.zeros((terminal_time+1, division_number)) # Immunized records the Cumulative vaccinated population \n",
    "\n",
    "### (4) Record the intial population \n",
    "    S[0,:] = p * susceptible_population    \n",
    "    E[0,:] = p * exposed_population    \n",
    "    R[0,:] = p * recovered_population\n",
    "    I[0,:] = p * infected_population\n",
    "    C[0,:] = p * cured_population\n",
    "    D[0,:] = p * deaded_population\n",
    "    N[0,:] = p * N_0\n",
    "\n",
    "### (5) Epidemic Simulation\n",
    "    \n",
    "# (5.0) Decide maximum vaccine amount for each period\n",
    "    vaccine_max = N_0/vaccine_coverage_time\n",
    "    \n",
    "    for t in range(1,terminal_time+1):  # 1 to terminal_time\n",
    "    \n",
    "# (5.1) Vaccination strategy (decide how many people vaccinated in each division)\n",
    "        \n",
    "        v = vaccination_strategy(t, \n",
    "                                 contact_rate, # this is the rawe input contact rate\n",
    "                                 c, # this one is a renewed term for each division, others are raw input\n",
    "                                 infection_rate,\n",
    "                                 exposed_to_infected_rate,\n",
    "                                 gammas, # this one is a renewed term for each division, others are raw input\n",
    "                                 recovery_rate_for_exposed,\n",
    "                                 cured_rate_for_infected,\n",
    "                                 death_rate,\n",
    "                                 vaccine_max, \n",
    "                                 S[t-1], E[t-1], R[t-1], I[t-1], N[t-1], Immunized[t-1], \n",
    "                                 total_time_for_greedy)\n",
    "        \n",
    "        V[t-1] = v                        # Record vaccinated people in period t\n",
    "        Immunized[t] = sum(V)     # Record total vaccinated people till time t\n",
    "\n",
    "# (5.1.1) Determine vaccinated proportion for each division among S, E, R states, in case we have 0/(0 + 0 + 0)\n",
    "    \n",
    "        vaccinated_proportion_in_S = np.zeros(division_number)\n",
    "        vaccinated_proportion_in_E = np.zeros(division_number)\n",
    "        vaccinated_proportion_in_R = np.zeros(division_number)\n",
    "        \n",
    "        for k in range(0,division_number): \n",
    "            if S[t-1,k] == 0:\n",
    "                vaccinated_proportion_in_S[k] = 0\n",
    "            else:\n",
    "                vaccinated_proportion_in_S[k] = S[t-1,k]/(S[t-1,k]+E[t-1,k]+R[t-1,k])\n",
    "            # end if\n",
    "            if E[t-1,k] == 0:\n",
    "                vaccinated_proportion_in_E[k] = 0\n",
    "            else:\n",
    "                vaccinated_proportion_in_E[k] = E[t-1,k]/(S[t-1,k]+E[t-1,k]+R[t-1,k])\n",
    "            # end if\n",
    "            if R[t-1,k] == 0:\n",
    "                vaccinated_proportion_in_R[k] = 0\n",
    "            else:\n",
    "                vaccinated_proportion_in_R[k] = R[t-1,k]/(S[t-1,k]+E[t-1,k]+R[t-1,k])\n",
    "            # end if\n",
    "        # end for k\n",
    "    \n",
    "                    \n",
    "# (5.2) determine delta S for each division k\n",
    "  \n",
    "        for k in range(0,division_number): \n",
    "            if S[t-1,k] == 0:   # no more S people, dS will be 0.\n",
    "                dS[t-1,k] = 0\n",
    "            else:\n",
    "                source = sum(c*(E[t-1] - vaccine_efficacy * v * vaccinated_proportion_in_E)) # population contacted by exposed people\n",
    "                dS[t-1,k] = min(lambdas[k] * (S[t-1,k] - vaccine_efficacy*v[k]*vaccinated_proportion_in_S[k])/(sum(N[t-1])-sum(I[t-1])) * source, S[t-1,k])\n",
    "            # end if\n",
    "        # end for k\n",
    "        \n",
    "# (5.3) SEIR change: S, E, R, I, C\n",
    "    \n",
    "        S[t] = S[t-1] - dS[t-1]                                    - vaccine_efficacy * v * vaccinated_proportion_in_S\n",
    "        E[t] = E[t-1] + dS[t-1] - sigma_Es*E[t-1] - gammas*E[t-1] - vaccine_efficacy * v * vaccinated_proportion_in_E\n",
    "        R[t] = R[t-1]           + sigma_Es*E[t-1]                  - vaccine_efficacy * v * vaccinated_proportion_in_R             \n",
    "        I[t] = I[t-1]                              + gammas*E[t-1] - sigma_Is*I[t-1] - deltas*I[t-1]\n",
    "        C[t] = C[t-1]                                              + sigma_Is*I[t-1]\n",
    "        \n",
    "        for k in range(0,division_number):        # in case the population decreases to negative\n",
    "            S[t,k] = max(S[t,k], 0)   \n",
    "            E[t,k] = max(E[t,k], 0)\n",
    "            R[t,k] = max(R[t,k], 0)\n",
    "        # end for k\n",
    "\n",
    "# (5.4) Death occured in t-th period\n",
    "    \n",
    "        for k in range(0,division_number): \n",
    "            dD[t-1,k] = min(deltas[k]*I[t-1,k], N[t-1,k])\n",
    "        # end for k\n",
    "                                        \n",
    "# (5.5) SEIR change: D, N  \n",
    "        \n",
    "        D[t] = D[t-1] + dD[t-1]\n",
    "        N[t] = N[t-1] - dD[t-1]\n",
    "\n",
    "    # end for t\n",
    "\n",
    "### (6) Outcome\n",
    "\n",
    "    return(output_presenting_function(S, E, R, I, C, D, V, Immunized, terminal_time))\n",
    "    \n",
    "# end def"
   ]
  },
  {
   "cell_type": "code",
   "execution_count": 46,
   "id": "e160dc45",
   "metadata": {},
   "outputs": [],
   "source": [
    "def SEIR_simulation_division(\n",
    "        \n",
    "### (1) Input       \n",
    "        \n",
    "# (1.1) Population\n",
    "    terminal_time,               #::Int64,\n",
    "    susceptible_population,      # record population in each division\n",
    "    exposed_population,          # record population in each division\n",
    "    recovered_population,        # record population in each division\n",
    "    infected_population,         # record population in each division\n",
    "    cured_population,            # record population in each division\n",
    "    deaded_population,           # record population in each division\n",
    "        \n",
    "# (1.2) contact rate & proportion\n",
    "    contact_rate,                # record contact rate in each division\n",
    "    contact_rate_proportion,     # not needed   \n",
    "        \n",
    "# (1.3) sensitivity (SEIR parameters)\n",
    "    infection_rate,              # record for each division\n",
    "    exposed_to_infected_rate,    # record for each division\n",
    "    recovery_rate_for_exposed,   # record for each division\n",
    "    cured_rate_for_infected,     # record for each division\n",
    "    death_rate,                  # record for each division\n",
    "    sensitivity_proportion,      # record for each division\n",
    "        \n",
    "# (1.4) vaccination strategy\n",
    "    vaccination_strategy,        #::Function,\n",
    "    vaccine_efficacy,            #::Float64,\n",
    "    vaccine_coverage_time,       #::Int64,\n",
    "    total_time_for_greedy,\n",
    "        \n",
    "# (1.5) Output form\n",
    "    output_presenting_function):  #::Function\n",
    "    \n",
    "    \n",
    "### (2) Define parameters for all group divisions based on activity and sensitivity\n",
    "#     sensitivity_number = len(sensitivity_proportion)\n",
    "#     activity_number = len(contact_rate_proportion)\n",
    "    total_population = susceptible_population + exposed_population + recovered_population + infected_population + cured_population\n",
    "    \n",
    "    division_number = len(contact_rate)     # number of divisions\n",
    "    c = contact_rate         # contact rate\n",
    "#     p = np.zeros(division_number)          # proportion\n",
    "    lambdas = infection_rate          # lamda, Infection rate\n",
    "    gammas = exposed_to_infected_rate          # gamma, Exposed to infected rate\n",
    "    sigma_Es = recovery_rate_for_exposed          # sigma_E, Recovery rate for exposed\n",
    "    sigma_Is = cured_rate_for_infected          # sigma_I, Cured rate for infected\n",
    "    deltas = death_rate          # delta, death rate (case fatality rate)\n",
    "    \n",
    "### (3) Prepare to record population in each division for all time\n",
    "    S = np.zeros((terminal_time+1, division_number))\n",
    "    dS = np.zeros((terminal_time+1, division_number))\n",
    "    E = np.zeros((terminal_time+1, division_number))\n",
    "    R = np.zeros((terminal_time+1, division_number)) \n",
    "    I = np.zeros((terminal_time+1, division_number))\n",
    "    C = np.zeros((terminal_time+1, division_number))\n",
    "    D = np.zeros((terminal_time+1, division_number))\n",
    "    dD = np.zeros((terminal_time, division_number)) \n",
    "    N = np.zeros((terminal_time+1, division_number))\n",
    "    V = np.zeros((terminal_time+1, division_number))         # V records vaccinated population of each period \n",
    "    Immunized = np.zeros((terminal_time+1, division_number)) # Immunized records the Cumulative vaccinated population \n",
    "\n",
    "### (4) Record the intial population \n",
    "    S[0,:] = susceptible_population    \n",
    "    E[0,:] = exposed_population   \n",
    "    R[0,:] = recovered_population \n",
    "    I[0,:] = infected_population\n",
    "    C[0,:] = cured_population \n",
    "    D[0,:] = deaded_population  \n",
    "    N[0,:] = total_population\n",
    "\n",
    "### (5) Epidemic Simulation\n",
    "    \n",
    "# (5.0) Decide maximum vaccine amount for each period\n",
    "    vaccine_max = sum(total_population)/vaccine_coverage_time\n",
    "    \n",
    "    for t in range(1,terminal_time+1):  # 1 to terminal_time\n",
    "    \n",
    "# (5.1) Vaccination strategy (decide how many people vaccinated in each division)\n",
    "        \n",
    "        v = vaccination_strategy(t, \n",
    "                                 contact_rate, # this is the rawe input contact rate\n",
    "                                 c, # this one is a renewed term for each division, others are raw input\n",
    "                                 infection_rate,\n",
    "                                 exposed_to_infected_rate,\n",
    "                                 gammas, # this one is a renewed term for each division, others are raw input\n",
    "                                 recovery_rate_for_exposed,\n",
    "                                 cured_rate_for_infected,\n",
    "                                 death_rate,\n",
    "                                 vaccine_max, \n",
    "                                 S[t-1] , E[t-1] , R[t-1] , \n",
    "                                 I[t-1] , N[t-1] , Immunized[t-1], \n",
    "                                 total_time_for_greedy)\n",
    "        \n",
    "        V[t-1] = v                        # Record vaccinated people in period t\n",
    "        Immunized[t] = sum(V)     # Record total vaccinated people till time t\n",
    "\n",
    "# (5.1.1) Determine vaccinated proportion for each division among S, E, R states, in case we have 0/(0 + 0 + 0)\n",
    "    \n",
    "        vaccinated_proportion_in_S = np.zeros(division_number)\n",
    "        vaccinated_proportion_in_E = np.zeros(division_number)\n",
    "        vaccinated_proportion_in_R = np.zeros(division_number)\n",
    "        \n",
    "        for k in range(0,division_number): \n",
    "            if S[t-1,k] == 0:\n",
    "                vaccinated_proportion_in_S[k] = 0\n",
    "            else:\n",
    "                vaccinated_proportion_in_S[k] = S[t-1,k]/(S[t-1,k]+E[t-1,k]+R[t-1,k])\n",
    "            # end if\n",
    "            if E[t-1,k] == 0:\n",
    "                vaccinated_proportion_in_E[k] = 0\n",
    "            else:\n",
    "                vaccinated_proportion_in_E[k] = E[t-1,k]/(S[t-1,k]+E[t-1,k]+R[t-1,k])\n",
    "            # end if\n",
    "            if R[t-1,k] == 0:\n",
    "                vaccinated_proportion_in_R[k] = 0\n",
    "            else:\n",
    "                vaccinated_proportion_in_R[k] = R[t-1,k]/(S[t-1,k]+E[t-1,k]+R[t-1,k])\n",
    "            # end if\n",
    "        # end for k\n",
    "    \n",
    "                    \n",
    "# (5.2) determine delta S for each division k\n",
    "  \n",
    "        for k in range(0,division_number): \n",
    "            if S[t-1,k] == 0:   # no more S people, dS will be 0.\n",
    "                dS[t-1,k] = 0\n",
    "            else:\n",
    "                source = sum(c*(E[t-1] - vaccine_efficacy * v * vaccinated_proportion_in_E)) # population contacted by exposed people\n",
    "                dS[t-1,k] = min(lambdas[k] * (S[t-1,k] - vaccine_efficacy*v[k]*vaccinated_proportion_in_S[k])/(sum(N[t-1])-sum(I[t-1])) * source, S[t-1,k])\n",
    "            # end if\n",
    "        # end for k\n",
    "        \n",
    "# (5.3) SEIR change: S, E, R, I, C\n",
    "    \n",
    "        S[t] = S[t-1] - dS[t-1]                                    - vaccine_efficacy * v * vaccinated_proportion_in_S\n",
    "        E[t] = E[t-1] + dS[t-1] - sigma_Es*E[t-1] - gammas*E[t-1] - vaccine_efficacy * v * vaccinated_proportion_in_E\n",
    "        R[t] = R[t-1]           + sigma_Es*E[t-1]                  - vaccine_efficacy * v * vaccinated_proportion_in_R             \n",
    "        I[t] = I[t-1]                              + gammas*E[t-1] - sigma_Is*I[t-1] - deltas*I[t-1]\n",
    "        C[t] = C[t-1]                                              + sigma_Is*I[t-1]\n",
    "        \n",
    "        for k in range(0,division_number):        # in case the population decreases to negative\n",
    "            S[t,k] = max(S[t,k], 0)   \n",
    "            E[t,k] = max(E[t,k], 0)\n",
    "            R[t,k] = max(R[t,k], 0)\n",
    "        # end for k\n",
    "\n",
    "# (5.4) Death occured in t-th period\n",
    "    \n",
    "        for k in range(0,division_number): \n",
    "            dD[t-1,k] = min(deltas[k]*I[t-1,k], N[t-1,k])\n",
    "        # end for k\n",
    "                                        \n",
    "# (5.5) SEIR change: D, N  \n",
    "        \n",
    "        D[t] = D[t-1] + dD[t-1]\n",
    "        N[t] = N[t-1] - dD[t-1]\n",
    "\n",
    "    # end for t\n",
    "\n",
    "### (6) Outcome\n",
    "\n",
    "    return(output_presenting_function(S, E, R, I, C, D, V, Immunized, terminal_time))\n",
    "    \n",
    "# end def"
   ]
  },
  {
   "cell_type": "code",
   "execution_count": 47,
   "id": "3a2d5b99",
   "metadata": {},
   "outputs": [],
   "source": [
    "def SEIR_old_simulation(\n",
    "        \n",
    "### (1) Input       \n",
    "        \n",
    "# (1.1) Population\n",
    "    terminal_time,               #::Int64,\n",
    "    susceptible_population,      #::Int64,\n",
    "    exposed_population,          #::Int64,\n",
    "    recovered_population,       #::Int64,\n",
    "    infected_population,         #::Int64,\n",
    "    cured_population,            #::Int64,\n",
    "    deaded_population,           #::Int64,\n",
    "        \n",
    "# (1.2) contact rate & proportion\n",
    "    contact_rate,                #::Vector,\n",
    "    contact_rate_proportion,     #::Vector,   \n",
    "        \n",
    "# (1.3) sensitivity (SEIR parameters)\n",
    "    infection_rate,              #::Vector,\n",
    "    exposed_to_infected_rate,    #::Vector,\n",
    "    recovery_rate_for_exposed,   #::Vector,\n",
    "    cured_rate_for_infected,     #::Vector,\n",
    "    death_rate,                  #::Vector,\n",
    "    sensitivity_proportion,      #::Vector,\n",
    "        \n",
    "# (1.4) vaccination strategy\n",
    "    vaccination_strategy,        #::Function,\n",
    "    vaccine_efficacy,            #::Float64,\n",
    "    vaccine_coverage_time,       #::Int64,\n",
    "    total_time_for_greedy,\n",
    "        \n",
    "# (1.5) Output form\n",
    "    output_presenting_function):  #::Function\n",
    "    \n",
    "\n",
    "### (3) Prepare to record population in each division for all time\n",
    "    N_0 = susceptible_population + exposed_population + recovered_population + infected_population + cured_population\n",
    "    \n",
    "    S = np.zeros(terminal_time+1)\n",
    "    dS = np.zeros(terminal_time+1)\n",
    "    E = np.zeros(terminal_time+1)\n",
    "    R = np.zeros(terminal_time+1)\n",
    "    I = np.zeros(terminal_time+1)\n",
    "    C = np.zeros(terminal_time+1)\n",
    "    D = np.zeros(terminal_time+1)\n",
    "    dD = np.zeros(terminal_time+1)\n",
    "    N = np.zeros(terminal_time+1)\n",
    "    V = np.zeros(terminal_time+1)       # V records vaccinated population of each period \n",
    "    Immunized = np.zeros(terminal_time+1) # Immunized records the Cumulative vaccinated population \n",
    "\n",
    "### (4) Record the intial population \n",
    "    S[0] = susceptible_population    \n",
    "    E[0] = exposed_population    \n",
    "    R[0] = recovered_population\n",
    "    I[0] = infected_population\n",
    "    C[0] = cured_population\n",
    "    D[0] = deaded_population\n",
    "    N[0] = N_0\n",
    "\n",
    "### (5) Epidemic Simulation\n",
    "    \n",
    "# (5.0) Decide maximum vaccine amount for each period\n",
    "    vaccine_max = N_0/vaccine_coverage_time\n",
    "    \n",
    "    for t in range(1,terminal_time+1):  # 1 to terminal_time\n",
    "        lambdas = infection_rate\n",
    "        sigma_Es = recovery_rate_for_exposed\n",
    "        gammas = exposed_to_infected_rate\n",
    "        sigma_Is = cured_rate_for_infected\n",
    "        deltas = death_rate\n",
    "        \n",
    "        dS[t-1] = min(lambdas * S[t-1] * E[t-1], S[t-1])\n",
    "        S[t] = max(S[t-1] - dS[t-1], 0)                                    \n",
    "        E[t] = max(E[t-1] + dS[t-1] - sigma_Es*E[t-1] - gammas*E[t-1], 0)\n",
    "        R[t] = max(R[t-1]           + sigma_Es*E[t-1], 0)                           \n",
    "        I[t] = I[t-1]                              + gammas*E[t-1] - sigma_Is*I[t-1] - deltas*I[t-1]\n",
    "        C[t] = C[t-1]                                              + sigma_Is*I[t-1]\n",
    "        dD[t-1] = min(deltas*I[t-1], N[t-1])\n",
    "        D[t] = D[t-1] + dD[t-1]\n",
    "        N[t] = N[t-1] - dD[t-1]\n",
    "\n",
    "### (6) Outcome\n",
    "\n",
    "    return(output_presenting_function(S, E, R, I, C, D, V, Immunized, terminal_time))\n",
    "    \n",
    "# end def"
   ]
  },
  {
   "cell_type": "code",
   "execution_count": 48,
   "id": "3282311a",
   "metadata": {},
   "outputs": [],
   "source": [
    "def no_vaccination(t_th_period, \n",
    "                   unadjusted_contact,\n",
    "                   contact, \n",
    "                        S_to_E_rate,\n",
    "                        unadjusted_E_to_I_rate,\n",
    "                   E_to_I_rate, \n",
    "                        E_to_R_rate,\n",
    "                        I_to_C_rate,\n",
    "                        I_to_D_rate,\n",
    "                        max_vaccine_amount, \n",
    "                        S_t, E_t, R_t, I_t, N_t, V_t, \n",
    "                        T_max_for_greedy):\n",
    "    return(np.zeros(len(contact)))\n",
    "# end def"
   ]
  },
  {
   "cell_type": "markdown",
   "id": "3dc81bc1",
   "metadata": {},
   "source": [
    "Present results"
   ]
  },
  {
   "cell_type": "code",
   "execution_count": 49,
   "id": "94b45961",
   "metadata": {},
   "outputs": [],
   "source": [
    "def give_population_df(susceptible_population,\n",
    "                    exposed_population,\n",
    "                    recovered_population,\n",
    "                    infected_population,\n",
    "                    cured_population,\n",
    "                    deaded_population,\n",
    "                    vaccinated_population,\n",
    "                    immunized_population,\n",
    "                    T_max):\n",
    "    Population_Matrix = np.zeros((7, T_max+1))\n",
    "    Population_Matrix[0,:] = sum(susceptible_population.T)\n",
    "    Population_Matrix[1,:] = sum(exposed_population.T)\n",
    "    Population_Matrix[2,:] = sum(recovered_population.T)\n",
    "    Population_Matrix[3,:] = sum(infected_population.T)\n",
    "    Population_Matrix[4,:] = sum(cured_population.T)\n",
    "    Population_Matrix[5,:] = sum(deaded_population.T)\n",
    "    Population_Matrix[6,:] = sum(immunized_population.T)\n",
    "    Population_Matrix_dataframe = pd.DataFrame(Population_Matrix.T)\n",
    "    colnames = [\"Susceptible\",\"Exposed\",\"Recovered\",\"Infected\",\"Cured\",\"Death\",\"Vaccinated\"]\n",
    "    Population_Matrix_dataframe.columns = colnames\n",
    "    return(Population_Matrix_dataframe)\n",
    "# end def"
   ]
  },
  {
   "cell_type": "code",
   "execution_count": 50,
   "id": "6cee8ceb",
   "metadata": {},
   "outputs": [],
   "source": [
    "def give_population_table(susceptible_population,\n",
    "                    exposed_population,\n",
    "                    recovered_population,\n",
    "                    infected_population,\n",
    "                    cured_population,\n",
    "                    deaded_population,\n",
    "                    vaccinated_population,\n",
    "                    immunized_population,\n",
    "                    T_max):\n",
    "    Population_Matrix = np.zeros((7, T_max+1))\n",
    "    Population_Matrix[0,:] = sum(susceptible_population.T)\n",
    "    Population_Matrix[1,:] = sum(exposed_population.T)\n",
    "    Population_Matrix[2,:] = sum(recovered_population.T)\n",
    "    Population_Matrix[3,:] = sum(infected_population.T)\n",
    "    Population_Matrix[4,:] = sum(cured_population.T)\n",
    "    Population_Matrix[5,:] = sum(deaded_population.T)\n",
    "    Population_Matrix[6,:] = sum(immunized_population.T)\n",
    "    return(Population_Matrix)\n",
    "# end def"
   ]
  },
  {
   "cell_type": "code",
   "execution_count": 51,
   "id": "bb0d1f4f",
   "metadata": {},
   "outputs": [],
   "source": [
    "def give_population_by_division(susceptible_population,\n",
    "                     exposed_population,\n",
    "                     recovered_population,\n",
    "                     infected_population,\n",
    "                     cured_population,\n",
    "                     deaded_population,\n",
    "                     vaccinated_population,\n",
    "                     immunized_population,\n",
    "                     T_max):\n",
    "    return(susceptible_population,\n",
    "                     exposed_population,\n",
    "                     recovered_population,\n",
    "                     infected_population,\n",
    "                     cured_population,\n",
    "                     deaded_population,\n",
    "                     immunized_population)\n",
    "# end def"
   ]
  },
  {
   "cell_type": "markdown",
   "id": "c6e2274b",
   "metadata": {},
   "source": [
    "# 1st wave"
   ]
  },
  {
   "cell_type": "code",
   "execution_count": 147,
   "id": "584245be",
   "metadata": {},
   "outputs": [],
   "source": [
    "Lambda = [0.1, 0.1]     # Infection rate 0.02 ~ 0.6\n",
    "Gamma = [1/10, 1/14]      # Exposed to infected rate 1/14 ~ 1/5\n",
    "Sigma_E = [1/7, 1/5]     # Recovery rate for exposed 1/14\n",
    "Sigma_I = [1/14, 1/7]     # Cured rate for infected 1/20 ~ 1/10\n",
    "Delta = [0.01, 0.001]   # Death rate (case fatality rate) 2.3% ~ 2.6%\n",
    "p_i_original = [0.5, 0.5]       # proportion corresponding to sensitivity clan\n",
    "\n",
    "c_j_original = [25, 15]             # contact rates for different social activity level group\n",
    "p_j_original = [0.5, 0.5]        # proportion corresponding to contact rates\n",
    "\n",
    "T = 100        # Terminal time in week\n",
    "\n",
    "S_initial = 30000    # Initial number of susceptible\n",
    "R_initial = 0         # Initial number of recovered from E\n",
    "I_initial = 0         # Initial number of infected \n",
    "C_initial = 0         # Initial number of recovered from R\n",
    "D_initial = 0         # Initial number of Death\n",
    "\n",
    "E_proportion = 0.0001\n",
    "E_initial = S_initial * E_proportion        # Initial number of exposed\n",
    "\n",
    "coverage_time = 100 # in weeks\n",
    "v_epsilon = 0.9"
   ]
  },
  {
   "cell_type": "code",
   "execution_count": 148,
   "id": "3a006343",
   "metadata": {},
   "outputs": [],
   "source": [
    "sensitivity_num = len(p_i_original)\n",
    "contact_num = len(p_j_original)\n",
    "    \n",
    "division_num = sensitivity_num * contact_num     # number of divisions\n",
    "c_j = np.zeros(division_num)          # contact rate\n",
    "p= np.zeros(division_num)   # proportion of each division\n",
    "Lambdas = np.zeros(division_num)          # lamda, Infection rate\n",
    "Gammas = np.zeros(division_num)          # gamma, Exposed to infected rate\n",
    "Sigma_Es = np.zeros(division_num)          # sigma_E, Recovery rate for exposed\n",
    "Sigma_Is = np.zeros(division_num)          # sigma_I, Cured rate for infected\n",
    "Deltas = np.zeros(division_num)          # delta, death rate (case fatality rate)\n",
    "\n",
    "\n",
    "p_i = 0 # proportion for sensitivity, not used in simulation\n",
    "p_j = 0 # proportion for contact rate, not used in simulation\n",
    "\n",
    "for j in range(0,len(p_j_original)):\n",
    "    for i in range(0,len(p_i_original)):\n",
    "        c_j[(j)*sensitivity_num+i] = c_j_original[j]\n",
    "        p[(j)*sensitivity_num+i] = p_j_original[j]*p_i_original[i]\n",
    "        Lambdas[(j)*sensitivity_num+i] = Lambda[i]\n",
    "        Gammas[(j)*sensitivity_num+i] = Gamma[i]\n",
    "        Sigma_Es[(j)*sensitivity_num+i] = Sigma_E[i]\n",
    "        Sigma_Is[(j)*sensitivity_num+i] = Sigma_I[i]\n",
    "        Deltas[(j)*sensitivity_num+i] = Delta[i]\n",
    "    # end for i\n",
    "# end for j\n",
    "\n",
    "S_0 = S_initial * p\n",
    "E_0 = E_initial * p\n",
    "R_0 = R_initial * p\n",
    "I_0 = I_initial * p\n",
    "C_0 = C_initial * p\n",
    "D_0 = D_initial * p"
   ]
  },
  {
   "cell_type": "code",
   "execution_count": 149,
   "id": "c99252db",
   "metadata": {},
   "outputs": [],
   "source": [
    "simulation_population_1 = SEIR_simulation_division(\n",
    "        \n",
    "### (1) Input       \n",
    "        \n",
    "# (1.1) Population\n",
    "    terminal_time               = T,\n",
    "    susceptible_population      = S_0,\n",
    "    exposed_population          = E_0,\n",
    "    recovered_population        = R_0,\n",
    "    infected_population         = I_0,\n",
    "    cured_population            = C_0,\n",
    "    deaded_population           = D_0,\n",
    "        \n",
    "# (1.2) contact rate & proportion\n",
    "    contact_rate                = c_j,\n",
    "    contact_rate_proportion     = p_j,   \n",
    "        \n",
    "# (1.3) sensitivity (SEIR parameters)\n",
    "    infection_rate              = Lambdas,\n",
    "    exposed_to_infected_rate    = Gammas,\n",
    "    recovery_rate_for_exposed   = Sigma_Es,\n",
    "    cured_rate_for_infected     = Sigma_Is,\n",
    "    death_rate                  = Deltas,\n",
    "    sensitivity_proportion      = p_i,\n",
    "        \n",
    "# (1.4) vaccination strategy (1st part need to change before running)\n",
    "    vaccination_strategy        = no_vaccination,\n",
    "    vaccine_efficacy            = v_epsilon,\n",
    "    vaccine_coverage_time       = coverage_time,\n",
    "    total_time_for_greedy       = 0,\n",
    "\n",
    "# (1.5) Output form (2nd part need to change before running, choose 1 of 2)\n",
    "    output_presenting_function  = give_population_by_division # output order: S, E, R, I, C, D, Cumulated_V\n",
    "    )"
   ]
  },
  {
   "cell_type": "markdown",
   "id": "05076cd7",
   "metadata": {},
   "source": [
    "Pure increase for each period in I (only from E)"
   ]
  },
  {
   "cell_type": "code",
   "execution_count": 150,
   "id": "5f31d423",
   "metadata": {},
   "outputs": [
    {
     "data": {
      "text/plain": [
       "[<matplotlib.lines.Line2D at 0x23b32a3f6a0>]"
      ]
     },
     "execution_count": 150,
     "metadata": {},
     "output_type": "execute_result"
    },
    {
     "data": {
      "image/png": "[encoded data removed]",
      "text/plain": [
       "<Figure size 432x288 with 1 Axes>"
      ]
     },
     "metadata": {
      "needs_background": "light"
     },
     "output_type": "display_data"
    }
   ],
   "source": [
    "pure_increase_in_I_1 = sum((simulation_population_1[1]*Gammas).T)\n",
    "plt.plot(pure_increase_in_I_1[0:30])"
   ]
  },
  {
   "cell_type": "markdown",
   "id": "16765958",
   "metadata": {},
   "source": [
    "# 2nd wave"
   ]
  },
  {
   "cell_type": "markdown",
   "id": "8bd30afb",
   "metadata": {},
   "source": [
    "Simulation parameters"
   ]
  },
  {
   "cell_type": "code",
   "execution_count": 151,
   "id": "c9856b5f",
   "metadata": {},
   "outputs": [],
   "source": [
    "Lambda = [0.1, 0.1]     # Infection rate 0.02 ~ 0.6\n",
    "Gamma = [1/7, 1/14]      # Exposed to infected rate 1/14 ~ 1/5\n",
    "Sigma_E = [1/7, 1/5]     # Recovery rate for exposed 1/14\n",
    "Sigma_I = [1/14, 1/7]     # Cured rate for infected 1/20 ~ 1/10\n",
    "Delta = [0.01, 0.001]   # Death rate (case fatality rate) 2.3% ~ 2.6%\n",
    "p_i_original = [0.5, 0.5]       # proportion corresponding to sensitivity clan\n",
    "\n",
    "c_j_original = [15, 10]             # contact rates for different social activity level group\n",
    "p_j_original = [0.25, 0.75]        # proportion corresponding to contact rates\n",
    "\n",
    "T = 100        # Terminal time in week\n",
    "\n",
    "S_initial = 150000    # Initial number of susceptible\n",
    "R_initial = 0         # Initial number of recovered from E\n",
    "I_initial = 0         # Initial number of infected \n",
    "C_initial = 0         # Initial number of recovered from R\n",
    "D_initial = 0         # Initial number of Death\n",
    "\n",
    "E_proportion = 0.0001\n",
    "E_initial = S_initial * E_proportion        # Initial number of exposed\n",
    "\n",
    "sensitivity_num = len(p_i_original)\n",
    "contact_num = len(p_j_original)\n",
    "    \n",
    "division_num = sensitivity_num * contact_num     # number of divisions\n",
    "c_j = np.zeros(division_num)          # contact rate\n",
    "p= np.zeros(division_num)   # proportion of each division\n",
    "Lambdas = np.zeros(division_num)          # lamda, Infection rate\n",
    "Gammas = np.zeros(division_num)          # gamma, Exposed to infected rate\n",
    "Sigma_Es = np.zeros(division_num)          # sigma_E, Recovery rate for exposed\n",
    "Sigma_Is = np.zeros(division_num)          # sigma_I, Cured rate for infected\n",
    "Deltas = np.zeros(division_num)          # delta, death rate (case fatality rate)\n",
    "\n",
    "\n",
    "p_i = 0 # proportion for sensitivity, not used in simulation\n",
    "p_j = 0 # proportion for contact rate, not used in simulation\n",
    "\n",
    "for j in range(0,len(p_j_original)):\n",
    "    for i in range(0,len(p_i_original)):\n",
    "        c_j[(j)*sensitivity_num+i] = c_j_original[j]\n",
    "        p[(j)*sensitivity_num+i] = p_j_original[j]*p_i_original[i]\n",
    "        Lambdas[(j)*sensitivity_num+i] = Lambda[i]\n",
    "        Gammas[(j)*sensitivity_num+i] = Gamma[i]\n",
    "        Sigma_Es[(j)*sensitivity_num+i] = Sigma_E[i]\n",
    "        Sigma_Is[(j)*sensitivity_num+i] = Sigma_I[i]\n",
    "        Deltas[(j)*sensitivity_num+i] = Delta[i]\n",
    "    # end for i\n",
    "# end for j\n",
    "\n",
    "S_0 = S_initial * p\n",
    "E_0 = E_initial * p\n",
    "R_0 = R_initial * p\n",
    "I_0 = I_initial * p\n",
    "C_0 = C_initial * p\n",
    "D_0 = D_initial * p"
   ]
  },
  {
   "cell_type": "code",
   "execution_count": 152,
   "id": "a725e2bc",
   "metadata": {},
   "outputs": [
    {
     "data": {
      "text/plain": [
       "[<matplotlib.lines.Line2D at 0x23b32a9ce50>]"
      ]
     },
     "execution_count": 152,
     "metadata": {},
     "output_type": "execute_result"
    },
    {
     "data": {
      "image/png": "[encoded data removed]",
      "text/plain": [
       "<Figure size 432x288 with 1 Axes>"
      ]
     },
     "metadata": {
      "needs_background": "light"
     },
     "output_type": "display_data"
    }
   ],
   "source": [
    "simulation_population_2 = SEIR_simulation_division(\n",
    "        \n",
    "### (1) Input       \n",
    "        \n",
    "# (1.1) Population\n",
    "    terminal_time               = T,\n",
    "    susceptible_population      = S_0,\n",
    "    exposed_population          = E_0,\n",
    "    recovered_population        = R_0,\n",
    "    infected_population         = I_0,\n",
    "    cured_population            = C_0,\n",
    "    deaded_population           = D_0,\n",
    "        \n",
    "# (1.2) contact rate & proportion\n",
    "    contact_rate                = c_j,\n",
    "    contact_rate_proportion     = p_j,   \n",
    "        \n",
    "# (1.3) sensitivity (SEIR parameters)\n",
    "    infection_rate              = Lambdas,\n",
    "    exposed_to_infected_rate    = Gammas,\n",
    "    recovery_rate_for_exposed   = Sigma_Es,\n",
    "    cured_rate_for_infected     = Sigma_Is,\n",
    "    death_rate                  = Deltas,\n",
    "    sensitivity_proportion      = p_i,\n",
    "        \n",
    "# (1.4) vaccination strategy (1st part need to change before running)\n",
    "    vaccination_strategy        = no_vaccination,\n",
    "    vaccine_efficacy            = v_epsilon,\n",
    "    vaccine_coverage_time       = coverage_time,\n",
    "    total_time_for_greedy       = 0,\n",
    "\n",
    "# (1.5) Output form (2nd part need to change before running, choose 1 of 2)\n",
    "    output_presenting_function  = give_population_by_division # output order: S, E, R, I, C, D, Cumulated_V\n",
    "    )\n",
    "\n",
    "# Plot\n",
    "pure_increase_in_I_2 = sum((simulation_population_2[1]*Gammas).T)\n",
    "plt.plot(pure_increase_in_I_2[0:40])"
   ]
  },
  {
   "cell_type": "markdown",
   "id": "329a3ea6",
   "metadata": {},
   "source": [
    "# 3rd wave"
   ]
  },
  {
   "cell_type": "code",
   "execution_count": 153,
   "id": "df3b4bf7",
   "metadata": {},
   "outputs": [],
   "source": [
    "Lambda = [0.1, 0.1]     # Infection rate 0.02 ~ 0.6\n",
    "Gamma = [1/10, 1/14]      # Exposed to infected rate 1/14 ~ 1/5\n",
    "Sigma_E = [1/7, 1/5]     # Recovery rate for exposed 1/14\n",
    "Sigma_I = [1/14, 1/7]     # Cured rate for infected 1/20 ~ 1/10\n",
    "Delta = [0.01, 0.001]   # Death rate (case fatality rate) 2.3% ~ 2.6%\n",
    "p_i_original = [0.5, 0.5]       # proportion corresponding to sensitivity clan\n",
    "\n",
    "c_j_original = [10, 5]             # contact rates for different social activity level group\n",
    "p_j_original = [0.5, 0.5]        # proportion corresponding to contact rates\n",
    "\n",
    "T = 50        # Terminal time in week\n",
    "\n",
    "S_initial = 100000    # Initial number of susceptible\n",
    "R_initial = 0         # Initial number of recovered from E\n",
    "I_initial = 0         # Initial number of infected \n",
    "C_initial = 0         # Initial number of recovered from R\n",
    "D_initial = 0         # Initial number of Death\n",
    "\n",
    "E_proportion = 0.0001\n",
    "E_initial = S_initial * E_proportion        # Initial number of exposed\n",
    "\n",
    "sensitivity_num = len(p_i_original)\n",
    "contact_num = len(p_j_original)\n",
    "    \n",
    "division_num = sensitivity_num * contact_num     # number of divisions\n",
    "c_j = np.zeros(division_num)          # contact rate\n",
    "p= np.zeros(division_num)   # proportion of each division\n",
    "Lambdas = np.zeros(division_num)          # lamda, Infection rate\n",
    "Gammas = np.zeros(division_num)          # gamma, Exposed to infected rate\n",
    "Sigma_Es = np.zeros(division_num)          # sigma_E, Recovery rate for exposed\n",
    "Sigma_Is = np.zeros(division_num)          # sigma_I, Cured rate for infected\n",
    "Deltas = np.zeros(division_num)          # delta, death rate (case fatality rate)\n",
    "\n",
    "\n",
    "p_i = 0 # proportion for sensitivity, not used in simulation\n",
    "p_j = 0 # proportion for contact rate, not used in simulation\n",
    "\n",
    "for j in range(0,len(p_j_original)):\n",
    "    for i in range(0,len(p_i_original)):\n",
    "        c_j[(j)*sensitivity_num+i] = c_j_original[j]\n",
    "        p[(j)*sensitivity_num+i] = p_j_original[j]*p_i_original[i]\n",
    "        Lambdas[(j)*sensitivity_num+i] = Lambda[i]\n",
    "        Gammas[(j)*sensitivity_num+i] = Gamma[i]\n",
    "        Sigma_Es[(j)*sensitivity_num+i] = Sigma_E[i]\n",
    "        Sigma_Is[(j)*sensitivity_num+i] = Sigma_I[i]\n",
    "        Deltas[(j)*sensitivity_num+i] = Delta[i]\n",
    "    # end for i\n",
    "# end for j\n",
    "\n",
    "S_0 = S_initial * p\n",
    "E_0 = E_initial * p\n",
    "R_0 = R_initial * p\n",
    "I_0 = I_initial * p\n",
    "C_0 = C_initial * p\n",
    "D_0 = D_initial * p"
   ]
  },
  {
   "cell_type": "code",
   "execution_count": 154,
   "id": "45f72435",
   "metadata": {},
   "outputs": [
    {
     "data": {
      "text/plain": [
       "[<matplotlib.lines.Line2D at 0x23b32afed00>]"
      ]
     },
     "execution_count": 154,
     "metadata": {},
     "output_type": "execute_result"
    },
    {
     "data": {
      "image/png": "[encoded data removed]",
      "text/plain": [
       "<Figure size 432x288 with 1 Axes>"
      ]
     },
     "metadata": {
      "needs_background": "light"
     },
     "output_type": "display_data"
    }
   ],
   "source": [
    "simulation_population_3 = SEIR_simulation_division(\n",
    "        \n",
    "### (1) Input       \n",
    "        \n",
    "# (1.1) Population\n",
    "    terminal_time               = T,\n",
    "    susceptible_population      = S_0,\n",
    "    exposed_population          = E_0,\n",
    "    recovered_population        = R_0,\n",
    "    infected_population         = I_0,\n",
    "    cured_population            = C_0,\n",
    "    deaded_population           = D_0,\n",
    "        \n",
    "# (1.2) contact rate & proportion\n",
    "    contact_rate                = c_j,\n",
    "    contact_rate_proportion     = p_j,   \n",
    "        \n",
    "# (1.3) sensitivity (SEIR parameters)\n",
    "    infection_rate              = Lambdas,\n",
    "    exposed_to_infected_rate    = Gammas,\n",
    "    recovery_rate_for_exposed   = Sigma_Es,\n",
    "    cured_rate_for_infected     = Sigma_Is,\n",
    "    death_rate                  = Deltas,\n",
    "    sensitivity_proportion      = p_i,\n",
    "        \n",
    "# (1.4) vaccination strategy (1st part need to change before running)\n",
    "    vaccination_strategy        = no_vaccination,\n",
    "    vaccine_efficacy            = v_epsilon,\n",
    "    vaccine_coverage_time       = coverage_time,\n",
    "    total_time_for_greedy       = 0,\n",
    "\n",
    "# (1.5) Output form (2nd part need to change before running, choose 1 of 2)\n",
    "    output_presenting_function  = give_population_by_division # output order: S, E, R, I, C, D, Cumulated_V\n",
    "    )\n",
    "\n",
    "# Plot\n",
    "pure_increase_in_I_3 = sum((simulation_population_3[1]*Gammas).T)\n",
    "plt.plot(pure_increase_in_I_3)"
   ]
  },
  {
   "cell_type": "markdown",
   "id": "1d6f50e8",
   "metadata": {},
   "source": [
    "Start time for 3 waves"
   ]
  },
  {
   "cell_type": "code",
   "execution_count": 155,
   "id": "b656d539",
   "metadata": {},
   "outputs": [
    {
     "data": {
      "text/plain": [
       "(0, 16, 25)"
      ]
     },
     "execution_count": 155,
     "metadata": {},
     "output_type": "execute_result"
    }
   ],
   "source": [
    "t_1 = 0  # May\n",
    "t_2 = 16 # September\n",
    "t_3 = 25 # November\n",
    "t_1, t_2, t_3"
   ]
  },
  {
   "cell_type": "code",
   "execution_count": 156,
   "id": "1d9d4b8b",
   "metadata": {},
   "outputs": [
    {
     "data": {
      "text/plain": [
       "[<matplotlib.lines.Line2D at 0x23b32b68130>]"
      ]
     },
     "execution_count": 156,
     "metadata": {},
     "output_type": "execute_result"
    },
    {
     "data": {
      "image/png": "[encoded data removed]",
      "text/plain": [
       "<Figure size 432x288 with 1 Axes>"
      ]
     },
     "metadata": {
      "needs_background": "light"
     },
     "output_type": "display_data"
    }
   ],
   "source": [
    "pure_increase_in_I = np.zeros(150)\n",
    "for t in range(len(pure_increase_in_I_1)):\n",
    "    pure_increase_in_I[t_1+t] += pure_increase_in_I_1[t]\n",
    "    \n",
    "for t in range(len(pure_increase_in_I_2)):\n",
    "    pure_increase_in_I[t_2+t] += pure_increase_in_I_2[t]\n",
    "    \n",
    "for t in range(len(pure_increase_in_I_3)):\n",
    "    pure_increase_in_I[t_3+t] += pure_increase_in_I_3[t]\n",
    "    \n",
    "plt.plot(pure_increase_in_I)"
   ]
  },
  {
   "cell_type": "markdown",
   "id": "27b5ef44",
   "metadata": {},
   "source": [
    "# Old SEIR model prediction"
   ]
  },
  {
   "cell_type": "markdown",
   "id": "8ee63885",
   "metadata": {},
   "source": [
    "1st wave"
   ]
  },
  {
   "cell_type": "code",
   "execution_count": 157,
   "id": "f26ee016",
   "metadata": {},
   "outputs": [
    {
     "data": {
      "text/plain": [
       "[<matplotlib.lines.Line2D at 0x23b32bc7340>]"
      ]
     },
     "execution_count": 157,
     "metadata": {},
     "output_type": "execute_result"
    },
    {
     "data": {
      "image/png": "[encoded data removed]",
      "text/plain": [
       "<Figure size 432x288 with 1 Axes>"
      ]
     },
     "metadata": {
      "needs_background": "light"
     },
     "output_type": "display_data"
    }
   ],
   "source": [
    "Lambdas = 0.0001     # Infection rate 0.02 ~ 0.6\n",
    "Gammas = 1/12      # Exposed to infected rate 1/14 ~ 1/5\n",
    "Sigma_Es = 1/6     # Recovery rate for exposed 1/14\n",
    "Sigma_Is = 1/10     # Cured rate for infected 1/20 ~ 1/10\n",
    "Deltas = 0.01   # Death rate (case fatality rate) 2.3% ~ 2.6%\n",
    "p_i = 0.5      # proportion corresponding to sensitivity clan\n",
    "\n",
    "c_j = 20            # contact rates for different social activity level group\n",
    "p_j = 0.5        # proportion corresponding to contact rates\n",
    "\n",
    "T = 100        # Terminal time in week\n",
    "\n",
    "S_0 = 30000    # Initial number of susceptible\n",
    "R_0 = 0         # Initial number of recovered from E\n",
    "I_0 = 0         # Initial number of infected \n",
    "C_0 = 0         # Initial number of recovered from R\n",
    "D_0 = 0         # Initial number of Death\n",
    "\n",
    "E_proportion = 0.0001\n",
    "E_0 = S_0 * E_proportion        # Initial number of exposed\n",
    "\n",
    "coverage_time = 100 # in weeks\n",
    "v_epsilon = 0.9\n",
    "\n",
    "simulation_population_1_old = SEIR_old_simulation(\n",
    "        \n",
    "### (1) Input       \n",
    "        \n",
    "# (1.1) Population\n",
    "    terminal_time               = T,\n",
    "    susceptible_population      = S_0,\n",
    "    exposed_population          = E_0,\n",
    "    recovered_population        = R_0,\n",
    "    infected_population         = I_0,\n",
    "    cured_population            = C_0,\n",
    "    deaded_population           = D_0,\n",
    "        \n",
    "# (1.2) contact rate & proportion\n",
    "    contact_rate                = c_j,\n",
    "    contact_rate_proportion     = p_j,   \n",
    "        \n",
    "# (1.3) sensitivity (SEIR parameters)\n",
    "    infection_rate              = Lambdas,\n",
    "    exposed_to_infected_rate    = Gammas,\n",
    "    recovery_rate_for_exposed   = Sigma_Es,\n",
    "    cured_rate_for_infected     = Sigma_Is,\n",
    "    death_rate                  = Deltas,\n",
    "    sensitivity_proportion      = p_i,\n",
    "        \n",
    "# (1.4) vaccination strategy (1st part need to change before running)\n",
    "    vaccination_strategy        = no_vaccination,\n",
    "    vaccine_efficacy            = v_epsilon,\n",
    "    vaccine_coverage_time       = coverage_time,\n",
    "    total_time_for_greedy       = 0,\n",
    "\n",
    "# (1.5) Output form (2nd part need to change before running, choose 1 of 2)\n",
    "    output_presenting_function  = give_population_by_division # output order: S, E, R, I, C, D, Cumulated_V\n",
    "    )\n",
    "\n",
    "pure_increase_in_I_1_old = simulation_population_1_old[1]*Gammas\n",
    "plt.plot(pure_increase_in_I_1_old[0:30])"
   ]
  },
  {
   "cell_type": "code",
   "execution_count": 158,
   "id": "afcbd946",
   "metadata": {},
   "outputs": [
    {
     "data": {
      "text/plain": [
       "[<matplotlib.lines.Line2D at 0x23b32c1e640>]"
      ]
     },
     "execution_count": 158,
     "metadata": {},
     "output_type": "execute_result"
    },
    {
     "data": {
      "image/png": "[encoded data removed]",
      "text/plain": [
       "<Figure size 432x288 with 1 Axes>"
      ]
     },
     "metadata": {
      "needs_background": "light"
     },
     "output_type": "display_data"
    }
   ],
   "source": [
    "plt.plot(simulation_population_1_old[3])"
   ]
  },
  {
   "cell_type": "markdown",
   "id": "e77952ee",
   "metadata": {},
   "source": [
    "2nd wave"
   ]
  },
  {
   "cell_type": "code",
   "execution_count": 159,
   "id": "02af7d35",
   "metadata": {},
   "outputs": [
    {
     "data": {
      "text/plain": [
       "[<matplotlib.lines.Line2D at 0x23b32c7f220>]"
      ]
     },
     "execution_count": 159,
     "metadata": {},
     "output_type": "execute_result"
    },
    {
     "data": {
      "image/png": "[encoded data removed]",
      "text/plain": [
       "<Figure size 432x288 with 1 Axes>"
      ]
     },
     "metadata": {
      "needs_background": "light"
     },
     "output_type": "display_data"
    }
   ],
   "source": [
    "Lambdas = 0.00002     # Infection rate 0.02 ~ 0.6\n",
    "Gammas = 1/10      # Exposed to infected rate 1/14 ~ 1/5\n",
    "Sigma_Es = 1/6     # Recovery rate for exposed 1/14\n",
    "Sigma_Is = 1/10     # Cured rate for infected 1/20 ~ 1/10\n",
    "Deltas = 0.01   # Death rate (case fatality rate) 2.3% ~ 2.6%\n",
    "p_i = 1      # proportion corresponding to sensitivity clan\n",
    "\n",
    "c_j = 12             # contact rates for different social activity level group\n",
    "p_j = 1        # proportion corresponding to contact rates\n",
    "\n",
    "T = 100        # Terminal time in week\n",
    "\n",
    "S_0 = 150000    # Initial number of susceptible\n",
    "R_0 = 0         # Initial number of recovered from E\n",
    "I_0 = 0         # Initial number of infected \n",
    "C_0 = 0         # Initial number of recovered from R\n",
    "D_0 = 0         # Initial number of Death\n",
    "\n",
    "E_proportion = 0.0001\n",
    "E_0 = S_0 * E_proportion        # Initial number of exposed\n",
    "\n",
    "coverage_time = 100 # in weeks\n",
    "v_epsilon = 0.9\n",
    "\n",
    "simulation_population_2_old = SEIR_old_simulation(\n",
    "        \n",
    "### (1) Input       \n",
    "        \n",
    "# (1.1) Population\n",
    "    terminal_time               = T,\n",
    "    susceptible_population      = S_0,\n",
    "    exposed_population          = E_0,\n",
    "    recovered_population        = R_0,\n",
    "    infected_population         = I_0,\n",
    "    cured_population            = C_0,\n",
    "    deaded_population           = D_0,\n",
    "        \n",
    "# (1.2) contact rate & proportion\n",
    "    contact_rate                = c_j,\n",
    "    contact_rate_proportion     = p_j,   \n",
    "        \n",
    "# (1.3) sensitivity (SEIR parameters)\n",
    "    infection_rate              = Lambdas,\n",
    "    exposed_to_infected_rate    = Gammas,\n",
    "    recovery_rate_for_exposed   = Sigma_Es,\n",
    "    cured_rate_for_infected     = Sigma_Is,\n",
    "    death_rate                  = Deltas,\n",
    "    sensitivity_proportion      = p_i,\n",
    "        \n",
    "# (1.4) vaccination strategy (1st part need to change before running)\n",
    "    vaccination_strategy        = no_vaccination,\n",
    "    vaccine_efficacy            = v_epsilon,\n",
    "    vaccine_coverage_time       = coverage_time,\n",
    "    total_time_for_greedy       = 0,\n",
    "\n",
    "# (1.5) Output form (2nd part need to change before running, choose 1 of 2)\n",
    "    output_presenting_function  = give_population_by_division # output order: S, E, R, I, C, D, Cumulated_V\n",
    "    )\n",
    "\n",
    "# Plot\n",
    "pure_increase_in_I_2_old = simulation_population_2_old[1]*Gammas\n",
    "plt.plot(pure_increase_in_I_2_old[0:40])"
   ]
  },
  {
   "cell_type": "markdown",
   "id": "b5f8bcf3",
   "metadata": {},
   "source": [
    "3rd wave"
   ]
  },
  {
   "cell_type": "code",
   "execution_count": 160,
   "id": "04da5983",
   "metadata": {},
   "outputs": [
    {
     "data": {
      "text/plain": [
       "[<matplotlib.lines.Line2D at 0x23b32cd8a00>]"
      ]
     },
     "execution_count": 160,
     "metadata": {},
     "output_type": "execute_result"
    },
    {
     "data": {
      "image/png": "[encoded data removed]",
      "text/plain": [
       "<Figure size 432x288 with 1 Axes>"
      ]
     },
     "metadata": {
      "needs_background": "light"
     },
     "output_type": "display_data"
    }
   ],
   "source": [
    "Lambdas = 0.0001     # Infection rate 0.02 ~ 0.6\n",
    "Gammas = 1/10      # Exposed to infected rate 1/14 ~ 1/5\n",
    "Sigma_Es = 1/7     # Recovery rate for exposed 1/14\n",
    "Sigma_Is = 1/14     # Cured rate for infected 1/20 ~ 1/10\n",
    "Deltas = 0.01  # Death rate (case fatality rate) 2.3% ~ 2.6%\n",
    "p_i = 1       # proportion corresponding to sensitivity clan\n",
    "\n",
    "c_j = 10             # contact rates for different social activity level group\n",
    "p_j = 1        # proportion corresponding to contact rates\n",
    "\n",
    "T = 50        # Terminal time in week\n",
    "\n",
    "S_0 = 100000    # Initial number of susceptible\n",
    "R_0 = 0         # Initial number of recovered from E\n",
    "I_0 = 0         # Initial number of infected \n",
    "C_0 = 0         # Initial number of recovered from R\n",
    "D_0 = 0         # Initial number of Death\n",
    "\n",
    "E_proportion = 0.0001\n",
    "E_0 = S_0 * E_proportion        # Initial number of exposed\n",
    "\n",
    "\n",
    "simulation_population_3_old = SEIR_old_simulation(\n",
    "        \n",
    "### (1) Input       \n",
    "        \n",
    "# (1.1) Population\n",
    "    terminal_time               = T,\n",
    "    susceptible_population      = S_0,\n",
    "    exposed_population          = E_0,\n",
    "    recovered_population        = R_0,\n",
    "    infected_population         = I_0,\n",
    "    cured_population            = C_0,\n",
    "    deaded_population           = D_0,\n",
    "        \n",
    "# (1.2) contact rate & proportion\n",
    "    contact_rate                = c_j,\n",
    "    contact_rate_proportion     = p_j,   \n",
    "        \n",
    "# (1.3) sensitivity (SEIR parameters)\n",
    "    infection_rate              = Lambdas,\n",
    "    exposed_to_infected_rate    = Gammas,\n",
    "    recovery_rate_for_exposed   = Sigma_Es,\n",
    "    cured_rate_for_infected     = Sigma_Is,\n",
    "    death_rate                  = Deltas,\n",
    "    sensitivity_proportion      = p_i,\n",
    "        \n",
    "# (1.4) vaccination strategy (1st part need to change before running)\n",
    "    vaccination_strategy        = no_vaccination,\n",
    "    vaccine_efficacy            = v_epsilon,\n",
    "    vaccine_coverage_time       = coverage_time,\n",
    "    total_time_for_greedy       = 0,\n",
    "\n",
    "# (1.5) Output form (2nd part need to change before running, choose 1 of 2)\n",
    "    output_presenting_function  = give_population_by_division # output order: S, E, R, I, C, D, Cumulated_V\n",
    "    )\n",
    "\n",
    "# Plot\n",
    "pure_increase_in_I_3_old = simulation_population_3_old[1]*Gammas\n",
    "plt.plot(pure_increase_in_I_3_old)"
   ]
  },
  {
   "cell_type": "code",
   "execution_count": 161,
   "id": "9519f4da",
   "metadata": {},
   "outputs": [
    {
     "data": {
      "text/plain": [
       "[<matplotlib.lines.Line2D at 0x23b32d27cd0>]"
      ]
     },
     "execution_count": 161,
     "metadata": {},
     "output_type": "execute_result"
    },
    {
     "data": {
      "image/png": "[encoded data removed]",
      "text/plain": [
       "<Figure size 432x288 with 1 Axes>"
      ]
     },
     "metadata": {
      "needs_background": "light"
     },
     "output_type": "display_data"
    }
   ],
   "source": [
    "pure_increase_in_I_old = np.zeros(150)\n",
    "for t in range(len(pure_increase_in_I_1_old)):\n",
    "    pure_increase_in_I_old[t_1+t] += pure_increase_in_I_1_old[t]\n",
    "    \n",
    "for t in range(len(pure_increase_in_I_2)):\n",
    "    pure_increase_in_I_old[t_2+t] += pure_increase_in_I_2_old[t]\n",
    "    \n",
    "for t in range(len(pure_increase_in_I_3)):\n",
    "    pure_increase_in_I_old[30+t] += pure_increase_in_I_3_old[t]\n",
    "    \n",
    "plt.plot(pure_increase_in_I_old)"
   ]
  },
  {
   "cell_type": "markdown",
   "id": "93bef173",
   "metadata": {},
   "source": [
    "# Import Allegheny real data confirmed cases"
   ]
  },
  {
   "cell_type": "code",
   "execution_count": 162,
   "id": "e2c66673",
   "metadata": {},
   "outputs": [
    {
     "data": {
      "text/html": [
       "<div>\n",
       "<style scoped>\n",
       "    .dataframe tbody tr th:only-of-type {\n",
       "        vertical-align: middle;\n",
       "    }\n",
       "\n",
       "    .dataframe tbody tr th {\n",
       "        vertical-align: top;\n",
       "    }\n",
       "\n",
       "    .dataframe thead th {\n",
       "        text-align: right;\n",
       "    }\n",
       "</style>\n",
       "<table border=\"1\" class=\"dataframe\">\n",
       "  <thead>\n",
       "    <tr style=\"text-align: right;\">\n",
       "      <th></th>\n",
       "      <th>0</th>\n",
       "      <th>1</th>\n",
       "      <th>2</th>\n",
       "    </tr>\n",
       "  </thead>\n",
       "  <tbody>\n",
       "    <tr>\n",
       "      <th>Date</th>\n",
       "      <td>total</td>\n",
       "      <td>increase</td>\n",
       "      <td>7-average</td>\n",
       "    </tr>\n",
       "    <tr>\n",
       "      <th>2020/2/1</th>\n",
       "      <td>0</td>\n",
       "      <td>0</td>\n",
       "      <td>0</td>\n",
       "    </tr>\n",
       "    <tr>\n",
       "      <th>2020/2/2</th>\n",
       "      <td>0</td>\n",
       "      <td>0</td>\n",
       "      <td>0</td>\n",
       "    </tr>\n",
       "    <tr>\n",
       "      <th>2020/2/3</th>\n",
       "      <td>0</td>\n",
       "      <td>0</td>\n",
       "      <td>0</td>\n",
       "    </tr>\n",
       "    <tr>\n",
       "      <th>2020/2/4</th>\n",
       "      <td>0</td>\n",
       "      <td>0</td>\n",
       "      <td>0</td>\n",
       "    </tr>\n",
       "    <tr>\n",
       "      <th>...</th>\n",
       "      <td>...</td>\n",
       "      <td>...</td>\n",
       "      <td>...</td>\n",
       "    </tr>\n",
       "    <tr>\n",
       "      <th>2021/6/26</th>\n",
       "      <td>101854.0</td>\n",
       "      <td>10.0</td>\n",
       "      <td>14.285714</td>\n",
       "    </tr>\n",
       "    <tr>\n",
       "      <th>2021/6/27</th>\n",
       "      <td>101864</td>\n",
       "      <td>7</td>\n",
       "      <td>13</td>\n",
       "    </tr>\n",
       "    <tr>\n",
       "      <th>2021/6/28</th>\n",
       "      <td>101871</td>\n",
       "      <td>15</td>\n",
       "      <td>13</td>\n",
       "    </tr>\n",
       "    <tr>\n",
       "      <th>2021/6/29</th>\n",
       "      <td>101886.0</td>\n",
       "      <td>12.0</td>\n",
       "      <td>13.857143</td>\n",
       "    </tr>\n",
       "    <tr>\n",
       "      <th>2021/6/30</th>\n",
       "      <td>101898.0</td>\n",
       "      <td>11.0</td>\n",
       "      <td>12.571429</td>\n",
       "    </tr>\n",
       "  </tbody>\n",
       "</table>\n",
       "<p>517 rows × 3 columns</p>\n",
       "</div>"
      ],
      "text/plain": [
       "                  0         1          2\n",
       "Date          total  increase  7-average\n",
       "2020/2/1          0         0          0\n",
       "2020/2/2          0         0          0\n",
       "2020/2/3          0         0          0\n",
       "2020/2/4          0         0          0\n",
       "...             ...       ...        ...\n",
       "2021/6/26  101854.0      10.0  14.285714\n",
       "2021/6/27    101864         7         13\n",
       "2021/6/28    101871        15         13\n",
       "2021/6/29  101886.0      12.0  13.857143\n",
       "2021/6/30  101898.0      11.0  12.571429\n",
       "\n",
       "[517 rows x 3 columns]"
      ]
     },
     "execution_count": 162,
     "metadata": {},
     "output_type": "execute_result"
    }
   ],
   "source": [
    "confirm_I_df = pd.read_csv ('covid_confirmed_usafacts.csv')\n",
    "confirm_I_df.T"
   ]
  },
  {
   "cell_type": "code",
   "execution_count": 163,
   "id": "e9267edd",
   "metadata": {},
   "outputs": [
    {
     "data": {
      "text/plain": [
       "(517, 517)"
      ]
     },
     "execution_count": 163,
     "metadata": {},
     "output_type": "execute_result"
    }
   ],
   "source": [
    "daily_I = confirm_I_df.values.tolist()[1]\n",
    "average_I = confirm_I_df.values.tolist()[2]\n",
    "len(daily_I), len(average_I)"
   ]
  },
  {
   "cell_type": "code",
   "execution_count": 164,
   "id": "0f6558d3",
   "metadata": {},
   "outputs": [
    {
     "data": {
      "text/plain": [
       "0       1235.0\n",
       "1         38.0\n",
       "2    26.428571\n",
       "Name: 2020/4/28, dtype: object"
      ]
     },
     "execution_count": 164,
     "metadata": {},
     "output_type": "execute_result"
    }
   ],
   "source": [
    "start_idx = 88\n",
    "confirm_I_df.T.iloc[start_idx]"
   ]
  },
  {
   "cell_type": "code",
   "execution_count": 165,
   "id": "4962c234",
   "metadata": {},
   "outputs": [
    {
     "data": {
      "text/plain": [
       "0     101886.0\n",
       "1         12.0\n",
       "2    13.857143\n",
       "Name: 2021/6/29, dtype: object"
      ]
     },
     "execution_count": 165,
     "metadata": {},
     "output_type": "execute_result"
    }
   ],
   "source": [
    "end_idx = 515\n",
    "confirm_I_df.T.iloc[end_idx]"
   ]
  },
  {
   "cell_type": "code",
   "execution_count": 166,
   "id": "0b7bc101",
   "metadata": {},
   "outputs": [
    {
     "data": {
      "text/plain": [
       "427"
      ]
     },
     "execution_count": 166,
     "metadata": {},
     "output_type": "execute_result"
    },
    {
     "data": {
      "image/png": "[encoded data removed]",
      "text/plain": [
       "<Figure size 432x288 with 1 Axes>"
      ]
     },
     "metadata": {
      "needs_background": "light"
     },
     "output_type": "display_data"
    }
   ],
   "source": [
    "selected_daily_I = daily_I[start_idx:end_idx]\n",
    "selected_average_I = average_I[start_idx:end_idx]\n",
    "\n",
    "plt.plot(daily_I[start_idx:end_idx])\n",
    "plt.plot(average_I[start_idx:end_idx])\n",
    "\n",
    "len(selected_daily_I)"
   ]
  },
  {
   "cell_type": "markdown",
   "id": "0bdcdc89",
   "metadata": {},
   "source": [
    "# Weekly comfirmed cases"
   ]
  },
  {
   "cell_type": "code",
   "execution_count": 167,
   "id": "88dc9731",
   "metadata": {},
   "outputs": [
    {
     "data": {
      "text/plain": [
       "61"
      ]
     },
     "execution_count": 167,
     "metadata": {},
     "output_type": "execute_result"
    }
   ],
   "source": [
    "weekly_I = np.zeros(int(len(selected_daily_I)/7))\n",
    "\n",
    "for t in range(len(weekly_I)):\n",
    "    weekly_I[t] = sum(selected_daily_I[t*7:t*7+6])\n",
    "len(weekly_I)"
   ]
  },
  {
   "cell_type": "code",
   "execution_count": 168,
   "id": "d57c05e5",
   "metadata": {},
   "outputs": [
    {
     "data": {
      "image/png": "[encoded data removed]",
      "text/plain": [
       "<Figure size 640x320 with 1 Axes>"
      ]
     },
     "metadata": {
      "needs_background": "light"
     },
     "output_type": "display_data"
    }
   ],
   "source": [
    "figure(figsize = (8,4), dpi = 80)\n",
    "plt.plot(pure_increase_in_I_old[0:len(weekly_I)], label=\"Classic SEIR\", color=\"blue\", linewidth=2, linestyle=':')\n",
    "plt.plot(pure_increase_in_I[0:len(weekly_I)], label=\"Multi-feature SEIR\", color=\"orange\", linewidth=2, linestyle='--')\n",
    "plt.plot(weekly_I, label=\"Confirmed\", color=\"red\", linewidth=2)\n",
    "plt.legend(loc = 'upper right', prop = {'size':14})\n",
    "plt.grid()\n",
    "plt.tick_params(labelsize=14)\n",
    "plt.savefig('Allegheny county infection comparison.tiff', format='tiff', dpi=300) "
   ]
  },
  {
   "cell_type": "code",
   "execution_count": 123,
   "id": "dd059325",
   "metadata": {},
   "outputs": [
    {
     "data": {
      "text/plain": [
       "1.161391960856357"
      ]
     },
     "execution_count": 123,
     "metadata": {},
     "output_type": "execute_result"
    }
   ],
   "source": [
    "sum(pure_increase_in_I[0:len(weekly_I)])/sum(weekly_I)"
   ]
  },
  {
   "cell_type": "markdown",
   "id": "33be7143",
   "metadata": {},
   "source": [
    "# Import St. Louis county real data confirmed cases"
   ]
  },
  {
   "cell_type": "code",
   "execution_count": 22,
   "id": "4adde21e",
   "metadata": {},
   "outputs": [],
   "source": [
    "# Average daily increase calculation\n",
    "def moving_average(sequence, window_size):\n",
    "    moving_averages = []\n",
    "    for i in range(len(sequence) - window_size + 1):\n",
    "        window = sequence[i:i + window_size]\n",
    "        average = sum(window) / window_size\n",
    "        moving_averages.append(average)\n",
    "    return moving_averages"
   ]
  },
  {
   "cell_type": "code",
   "execution_count": 17,
   "id": "5e3128b7",
   "metadata": {},
   "outputs": [
    {
     "data": {
      "text/plain": [
       "[<matplotlib.lines.Line2D at 0x23b2b7f6700>]"
      ]
     },
     "execution_count": 17,
     "metadata": {},
     "output_type": "execute_result"
    },
    {
     "data": {
      "image/png": "[encoded data removed]",
      "text/plain": [
       "<Figure size 432x288 with 1 Axes>"
      ]
     },
     "metadata": {
      "needs_background": "light"
     },
     "output_type": "display_data"
    }
   ],
   "source": [
    "# Cumulative infections from 2020/1/22 to 2023/7/23\n",
    "confirm_I_SL_df = pd.read_excel ('covid infection St. Louis County.xlsx')\n",
    "StLouis_cum_I = confirm_I_SL_df.values[0]\n",
    "\n",
    "# Daily increase from SL_start to SL_end\n",
    "StLouis_daily_infection = []\n",
    "for index in range(len(StLouis_cum_I)):\n",
    "    StLouis_daily_infection.append(StLouis_cum_I[index] - StLouis_cum_I[index-1])\n",
    "StLouis_daily_infection.pop(0) # remove the first one\n",
    "\n",
    "plt.plot(StLouis_daily_infection[0:500])"
   ]
  },
  {
   "cell_type": "markdown",
   "id": "043ce8a7",
   "metadata": {},
   "source": [
    "# Import Hamilton county real data confirmed cases"
   ]
  },
  {
   "cell_type": "code",
   "execution_count": 37,
   "id": "1eeeb166",
   "metadata": {},
   "outputs": [
    {
     "data": {
      "text/plain": [
       "[<matplotlib.lines.Line2D at 0x23b2cb60340>]"
      ]
     },
     "execution_count": 37,
     "metadata": {},
     "output_type": "execute_result"
    },
    {
     "data": {
      "image/png": "[encoded data removed]",
      "text/plain": [
       "<Figure size 432x288 with 1 Axes>"
      ]
     },
     "metadata": {
      "needs_background": "light"
     },
     "output_type": "display_data"
    }
   ],
   "source": [
    "# Cumulative infections from 2020/1/22 to 2023/7/23\n",
    "confirm_I_HA_df = pd.read_excel ('covid infection Hamilton County.xlsx')\n",
    "Hamilton_cum_I = confirm_I_HA_df.values[0]\n",
    "\n",
    "# Daily increase from SL_start to SL_end\n",
    "Hamilton_daily_I = []\n",
    "for index in range(len(Hamilton_cum_I)):\n",
    "    Hamilton_daily_I.append(Hamilton_cum_I[index] - Hamilton_cum_I[index-1])\n",
    "Hamilton_daily_I.pop(0) # remove the first one\n",
    "\n",
    "plt.plot(Hamilton_daily_I[0:600])"
   ]
  },
  {
   "cell_type": "code",
   "execution_count": 172,
   "id": "ec43cc9a",
   "metadata": {},
   "outputs": [
    {
     "data": {
      "text/plain": [
       "([<matplotlib.lines.Line2D at 0x23b32fc0bb0>],\n",
       " 0    1\n",
       " Name: 2020/3/19, dtype: int64,\n",
       " 0    81546\n",
       " Name: 2021/7/5, dtype: int64)"
      ]
     },
     "execution_count": 172,
     "metadata": {},
     "output_type": "execute_result"
    },
    {
     "data": {
      "image/png": "[encoded data removed]",
      "text/plain": [
       "<Figure size 432x288 with 1 Axes>"
      ]
     },
     "metadata": {
      "needs_background": "light"
     },
     "output_type": "display_data"
    }
   ],
   "source": [
    "start_idx = 57\n",
    "end_idx = 530\n",
    "\n",
    "selected_Hamilton_daily_I = Hamilton_daily_I[start_idx:end_idx]\n",
    "plt.plot(selected_Hamilton_daily_I), confirm_I_HA_df.T.iloc[start_idx], confirm_I_HA_df.T.iloc[end_idx]"
   ]
  },
  {
   "cell_type": "code",
   "execution_count": 171,
   "id": "1c840e4e",
   "metadata": {},
   "outputs": [
    {
     "data": {
      "text/plain": [
       "([<matplotlib.lines.Line2D at 0x23b32f6a730>], 65)"
      ]
     },
     "execution_count": 171,
     "metadata": {},
     "output_type": "execute_result"
    },
    {
     "data": {
      "image/png": "[encoded data removed]",
      "text/plain": [
       "<Figure size 432x288 with 1 Axes>"
      ]
     },
     "metadata": {
      "needs_background": "light"
     },
     "output_type": "display_data"
    }
   ],
   "source": [
    "# Weekly increase infections\n",
    "Hamilton_weekly_I = np.zeros(int(len(selected_Hamilton_daily_I)/7))\n",
    "\n",
    "for t in range(len(Hamilton_weekly_I)):\n",
    "    Hamilton_weekly_I[t] = sum(selected_Hamilton_daily_I[t*7:t*7+6])\n",
    "\n",
    "    \n",
    "plt.plot(Hamilton_weekly_I), len(Hamilton_weekly_I)"
   ]
  },
  {
   "cell_type": "markdown",
   "id": "0608971f",
   "metadata": {},
   "source": [
    "# Hamiltom new SEIR simulation - 1st and 2nd wave"
   ]
  },
  {
   "cell_type": "code",
   "execution_count": 118,
   "id": "d56db442",
   "metadata": {},
   "outputs": [],
   "source": [
    "Hamiltom_1st_population = 30000\n",
    "Hamiltom_2nd_population = 150000\n",
    "Lambda_constant = [0.065, 0.065] "
   ]
  },
  {
   "cell_type": "code",
   "execution_count": 119,
   "id": "6977370d",
   "metadata": {},
   "outputs": [
    {
     "name": "stdout",
     "output_type": "stream",
     "text": [
      "Hamilton 1st wave NEW SEIR\n"
     ]
    },
    {
     "data": {
      "text/plain": [
       "([<matplotlib.lines.Line2D at 0x23b316150a0>], None)"
      ]
     },
     "execution_count": 119,
     "metadata": {},
     "output_type": "execute_result"
    },
    {
     "data": {
      "image/png": "[encoded data removed]",
      "text/plain": [
       "<Figure size 432x288 with 1 Axes>"
      ]
     },
     "metadata": {
      "needs_background": "light"
     },
     "output_type": "display_data"
    }
   ],
   "source": [
    "#################################################### Simulation parameters for 1st wave\n",
    "\n",
    "Lambda = [0.055, 0.055]     # Infection rate 0.02 ~ 0.6\n",
    "Gamma = [1/10, 1/14]      # Exposed to infected rate 1/14 ~ 1/5\n",
    "Sigma_E = [1/7, 1/5]     # Recovery rate for exposed 1/14\n",
    "Sigma_I = [1/14, 1/7]     # Cured rate for infected 1/20 ~ 1/10\n",
    "Delta = [0.01, 0.001]   # Death rate (case fatality rate) 2.3% ~ 2.6%\n",
    "p_i_original = [0.5, 0.5]       # proportion corresponding to sensitivity clan\n",
    "\n",
    "c_j_original = [25, 15]             # contact rates for different social activity level group\n",
    "p_j_original = [0.5, 0.5]        # proportion corresponding to contact rates\n",
    "\n",
    "T = 100        # Terminal time in week\n",
    "\n",
    "S_initial = Hamiltom_1st_population    # Initial number of susceptible\n",
    "R_initial = 0         # Initial number of recovered from E\n",
    "I_initial = 0         # Initial number of infected \n",
    "C_initial = 0         # Initial number of recovered from R\n",
    "D_initial = 0         # Initial number of Death\n",
    "\n",
    "E_proportion = 0.0001\n",
    "E_initial = S_initial * E_proportion        # Initial number of exposed\n",
    "\n",
    "coverage_time = 100 # in weeks\n",
    "v_epsilon = 0.9 # not used\n",
    "\n",
    "sensitivity_num = len(p_i_original)\n",
    "contact_num = len(p_j_original)\n",
    "    \n",
    "division_num = sensitivity_num * contact_num     # number of divisions\n",
    "c_j = np.zeros(division_num)          # contact rate\n",
    "p= np.zeros(division_num)   # proportion of each division\n",
    "Lambdas = np.zeros(division_num)          # lamda, Infection rate\n",
    "Gammas = np.zeros(division_num)          # gamma, Exposed to infected rate\n",
    "Sigma_Es = np.zeros(division_num)          # sigma_E, Recovery rate for exposed\n",
    "Sigma_Is = np.zeros(division_num)          # sigma_I, Cured rate for infected\n",
    "Deltas = np.zeros(division_num)          # delta, death rate (case fatality rate)\n",
    "\n",
    "\n",
    "p_i = 0 # proportion for sensitivity, not used in simulation\n",
    "p_j = 0 # proportion for contact rate, not used in simulation\n",
    "\n",
    "for j in range(0,len(p_j_original)):\n",
    "    for i in range(0,len(p_i_original)):\n",
    "        c_j[(j)*sensitivity_num+i] = c_j_original[j]\n",
    "        p[(j)*sensitivity_num+i] = p_j_original[j]*p_i_original[i]\n",
    "        Lambdas[(j)*sensitivity_num+i] = Lambda[i]\n",
    "        Gammas[(j)*sensitivity_num+i] = Gamma[i]\n",
    "        Sigma_Es[(j)*sensitivity_num+i] = Sigma_E[i]\n",
    "        Sigma_Is[(j)*sensitivity_num+i] = Sigma_I[i]\n",
    "        Deltas[(j)*sensitivity_num+i] = Delta[i]\n",
    "    # end for i\n",
    "# end for j\n",
    "\n",
    "S_0 = S_initial * p\n",
    "E_0 = E_initial * p\n",
    "R_0 = R_initial * p\n",
    "I_0 = I_initial * p\n",
    "C_0 = C_initial * p\n",
    "D_0 = D_initial * p\n",
    "\n",
    "\n",
    "########################################################## Simulation start\n",
    "simulation_population_1 = SEIR_simulation_division(\n",
    "        \n",
    "### (1) Input       \n",
    "        \n",
    "# (1.1) Population\n",
    "    terminal_time               = T,\n",
    "    susceptible_population      = S_0,\n",
    "    exposed_population          = E_0,\n",
    "    recovered_population        = R_0,\n",
    "    infected_population         = I_0,\n",
    "    cured_population            = C_0,\n",
    "    deaded_population           = D_0,\n",
    "        \n",
    "# (1.2) contact rate & proportion\n",
    "    contact_rate                = c_j,\n",
    "    contact_rate_proportion     = p_j,   \n",
    "        \n",
    "# (1.3) sensitivity (SEIR parameters)\n",
    "    infection_rate              = Lambdas,\n",
    "    exposed_to_infected_rate    = Gammas,\n",
    "    recovery_rate_for_exposed   = Sigma_Es,\n",
    "    cured_rate_for_infected     = Sigma_Is,\n",
    "    death_rate                  = Deltas,\n",
    "    sensitivity_proportion      = p_i,\n",
    "        \n",
    "# (1.4) vaccination strategy (1st part need to change before running)\n",
    "    vaccination_strategy        = no_vaccination,\n",
    "    vaccine_efficacy            = v_epsilon,\n",
    "    vaccine_coverage_time       = coverage_time,\n",
    "    total_time_for_greedy       = 0,\n",
    "\n",
    "# (1.5) Output form (2nd part need to change before running, choose 1 of 2)\n",
    "    output_presenting_function  = give_population_by_division # output order: S, E, R, I, C, D, Cumulated_V\n",
    "    )\n",
    "\n",
    "####################################### Increase for each period in I (only from E)\n",
    "pure_increase_in_I_1 = sum((simulation_population_1[1]*Gammas).T)\n",
    "plt.plot(pure_increase_in_I_1[0:30]), print(\"Hamilton 1st wave NEW SEIR\")"
   ]
  },
  {
   "cell_type": "code",
   "execution_count": 120,
   "id": "962e8616",
   "metadata": {},
   "outputs": [
    {
     "name": "stdout",
     "output_type": "stream",
     "text": [
      "Hamilton 2nd wave NEW SEIR\n"
     ]
    },
    {
     "data": {
      "text/plain": [
       "([<matplotlib.lines.Line2D at 0x23b31698940>], None)"
      ]
     },
     "execution_count": 120,
     "metadata": {},
     "output_type": "execute_result"
    },
    {
     "data": {
      "image/png": "[encoded data removed]",
      "text/plain": [
       "<Figure size 432x288 with 1 Axes>"
      ]
     },
     "metadata": {
      "needs_background": "light"
     },
     "output_type": "display_data"
    }
   ],
   "source": [
    "#################################################### Simulation parameters for 2nd wave\n",
    "\n",
    "Lambda = Lambda_constant     # Infection rate 0.02 ~ 0.6\n",
    "Gamma = [1/7, 1/14]      # Exposed to infected rate 1/14 ~ 1/5\n",
    "Sigma_E = [1/7, 1/5]     # Recovery rate for exposed 1/14\n",
    "Sigma_I = [1/14, 1/7]     # Cured rate for infected 1/20 ~ 1/10\n",
    "Delta = [0.01, 0.001]   # Death rate (case fatality rate) 2.3% ~ 2.6%\n",
    "p_i_original = [0.5, 0.5]       # proportion corresponding to sensitivity clan\n",
    "\n",
    "c_j_original = [15, 10]             # contact rates for different social activity level group\n",
    "p_j_original = [0.5, 0.5]        # proportion corresponding to contact rates\n",
    "\n",
    "T = 100        # Terminal time in week\n",
    "\n",
    "S_initial = Hamiltom_2nd_population    # Initial number of susceptible\n",
    "R_initial = 0         # Initial number of recovered from E\n",
    "I_initial = 0         # Initial number of infected \n",
    "C_initial = 0         # Initial number of recovered from R\n",
    "D_initial = 0         # Initial number of Death\n",
    "\n",
    "E_proportion = 0.0001\n",
    "E_initial = S_initial * E_proportion        # Initial number of exposed\n",
    "\n",
    "sensitivity_num = len(p_i_original)\n",
    "contact_num = len(p_j_original)\n",
    "    \n",
    "division_num = sensitivity_num * contact_num     # number of divisions\n",
    "c_j = np.zeros(division_num)          # contact rate\n",
    "p= np.zeros(division_num)   # proportion of each division\n",
    "Lambdas = np.zeros(division_num)          # lamda, Infection rate\n",
    "Gammas = np.zeros(division_num)          # gamma, Exposed to infected rate\n",
    "Sigma_Es = np.zeros(division_num)          # sigma_E, Recovery rate for exposed\n",
    "Sigma_Is = np.zeros(division_num)          # sigma_I, Cured rate for infected\n",
    "Deltas = np.zeros(division_num)          # delta, death rate (case fatality rate)\n",
    "\n",
    "\n",
    "p_i = 0 # proportion for sensitivity, not used in simulation\n",
    "p_j = 0 # proportion for contact rate, not used in simulation\n",
    "\n",
    "for j in range(0,len(p_j_original)):\n",
    "    for i in range(0,len(p_i_original)):\n",
    "        c_j[(j)*sensitivity_num+i] = c_j_original[j]\n",
    "        p[(j)*sensitivity_num+i] = p_j_original[j]*p_i_original[i]\n",
    "        Lambdas[(j)*sensitivity_num+i] = Lambda[i]\n",
    "        Gammas[(j)*sensitivity_num+i] = Gamma[i]\n",
    "        Sigma_Es[(j)*sensitivity_num+i] = Sigma_E[i]\n",
    "        Sigma_Is[(j)*sensitivity_num+i] = Sigma_I[i]\n",
    "        Deltas[(j)*sensitivity_num+i] = Delta[i]\n",
    "    # end for i\n",
    "# end for j\n",
    "\n",
    "S_0 = S_initial * p\n",
    "E_0 = E_initial * p\n",
    "R_0 = R_initial * p\n",
    "I_0 = I_initial * p\n",
    "C_0 = C_initial * p\n",
    "D_0 = D_initial * p\n",
    "\n",
    "########################################################## Simulation start\n",
    "\n",
    "simulation_population_2 = SEIR_simulation_division(\n",
    "        \n",
    "### (1) Input       \n",
    "        \n",
    "# (1.1) Population\n",
    "    terminal_time               = T,\n",
    "    susceptible_population      = S_0,\n",
    "    exposed_population          = E_0,\n",
    "    recovered_population        = R_0,\n",
    "    infected_population         = I_0,\n",
    "    cured_population            = C_0,\n",
    "    deaded_population           = D_0,\n",
    "        \n",
    "# (1.2) contact rate & proportion\n",
    "    contact_rate                = c_j,\n",
    "    contact_rate_proportion     = p_j,   \n",
    "        \n",
    "# (1.3) sensitivity (SEIR parameters)\n",
    "    infection_rate              = Lambdas,\n",
    "    exposed_to_infected_rate    = Gammas,\n",
    "    recovery_rate_for_exposed   = Sigma_Es,\n",
    "    cured_rate_for_infected     = Sigma_Is,\n",
    "    death_rate                  = Deltas,\n",
    "    sensitivity_proportion      = p_i,\n",
    "        \n",
    "# (1.4) vaccination strategy (1st part need to change before running)\n",
    "    vaccination_strategy        = no_vaccination,\n",
    "    vaccine_efficacy            = v_epsilon,\n",
    "    vaccine_coverage_time       = coverage_time,\n",
    "    total_time_for_greedy       = 0,\n",
    "\n",
    "# (1.5) Output form (2nd part need to change before running, choose 1 of 2)\n",
    "    output_presenting_function  = give_population_by_division # output order: S, E, R, I, C, D, Cumulated_V\n",
    "    )\n",
    "\n",
    "# Plot\n",
    "pure_increase_in_I_2 = sum((simulation_population_2[1]*Gammas).T)\n",
    "plt.plot(pure_increase_in_I_2[0:40]), print(\"Hamilton 2nd wave NEW SEIR\")"
   ]
  },
  {
   "cell_type": "code",
   "execution_count": 128,
   "id": "746d8fa7",
   "metadata": {},
   "outputs": [
    {
     "name": "stdout",
     "output_type": "stream",
     "text": [
      "Hamilton 1st + 2nd wave new SEIR\n"
     ]
    },
    {
     "data": {
      "text/plain": [
       "([<matplotlib.lines.Line2D at 0x23b31296cd0>], None)"
      ]
     },
     "execution_count": 128,
     "metadata": {},
     "output_type": "execute_result"
    },
    {
     "data": {
      "image/png": "[encoded data removed]",
      "text/plain": [
       "<Figure size 432x288 with 1 Axes>"
      ]
     },
     "metadata": {
      "needs_background": "light"
     },
     "output_type": "display_data"
    }
   ],
   "source": [
    "t_1 = 0  # March\n",
    "t_2 = 16 # September\n",
    "\n",
    "pure_increase_in_I = np.zeros(150)\n",
    "for t in range(len(pure_increase_in_I_1)):\n",
    "    pure_increase_in_I[t_1+t] += pure_increase_in_I_1[t]\n",
    "    \n",
    "for t in range(len(pure_increase_in_I_2)):\n",
    "    pure_increase_in_I[t_2+t] += pure_increase_in_I_2[t]\n",
    "    \n",
    "plt.plot(pure_increase_in_I), print(\"Hamilton 1st + 2nd wave new SEIR\")"
   ]
  },
  {
   "cell_type": "markdown",
   "id": "7813192c",
   "metadata": {},
   "source": [
    "# Hamiltom old SEIR simulation - 1st and 2nd wave"
   ]
  },
  {
   "cell_type": "code",
   "execution_count": 137,
   "id": "3a550646",
   "metadata": {},
   "outputs": [
    {
     "name": "stdout",
     "output_type": "stream",
     "text": [
      "Hamilton 1st wave OLD SEIR\n"
     ]
    },
    {
     "data": {
      "text/plain": [
       "([<matplotlib.lines.Line2D at 0x23b329e1d90>], None)"
      ]
     },
     "execution_count": 137,
     "metadata": {},
     "output_type": "execute_result"
    },
    {
     "data": {
      "image/png": "[encoded data removed]",
      "text/plain": [
       "<Figure size 432x288 with 1 Axes>"
      ]
     },
     "metadata": {
      "needs_background": "light"
     },
     "output_type": "display_data"
    }
   ],
   "source": [
    "################################################### 1st wave old SEIR\n",
    "\n",
    "Lambdas = 0.000051     # Infection rate 0.02 ~ 0.6\n",
    "Gammas = 1/12      # Exposed to infected rate 1/14 ~ 1/5\n",
    "Sigma_Es = 1/6     # Recovery rate for exposed 1/14\n",
    "Sigma_Is = 1/10     # Cured rate for infected 1/20 ~ 1/10\n",
    "Deltas = 0.01   # Death rate (case fatality rate) 2.3% ~ 2.6%\n",
    "p_i = 1      # proportion corresponding to sensitivity clan\n",
    "\n",
    "c_j = 20            # contact rates for different social activity level group\n",
    "p_j = 1        # proportion corresponding to contact rates\n",
    "\n",
    "T = 100        # Terminal time in week\n",
    "\n",
    "S_0 = Hamiltom_1st_population    # Initial number of susceptible\n",
    "R_0 = 0         # Initial number of recovered from E\n",
    "I_0 = 0         # Initial number of infected \n",
    "C_0 = 0         # Initial number of recovered from R\n",
    "D_0 = 0         # Initial number of Death\n",
    "\n",
    "E_proportion = 0.0001\n",
    "E_0 = S_0 * E_proportion        # Initial number of exposed\n",
    "\n",
    "coverage_time = 100 # in weeks\n",
    "v_epsilon = 0.9\n",
    "\n",
    "simulation_population_1_old = SEIR_old_simulation(\n",
    "        \n",
    "### (1) Input       \n",
    "        \n",
    "# (1.1) Population\n",
    "    terminal_time               = T,\n",
    "    susceptible_population      = S_0,\n",
    "    exposed_population          = E_0,\n",
    "    recovered_population        = R_0,\n",
    "    infected_population         = I_0,\n",
    "    cured_population            = C_0,\n",
    "    deaded_population           = D_0,\n",
    "        \n",
    "# (1.2) contact rate & proportion\n",
    "    contact_rate                = c_j,\n",
    "    contact_rate_proportion     = p_j,   \n",
    "        \n",
    "# (1.3) sensitivity (SEIR parameters)\n",
    "    infection_rate              = Lambdas,\n",
    "    exposed_to_infected_rate    = Gammas,\n",
    "    recovery_rate_for_exposed   = Sigma_Es,\n",
    "    cured_rate_for_infected     = Sigma_Is,\n",
    "    death_rate                  = Deltas,\n",
    "    sensitivity_proportion      = p_i,\n",
    "        \n",
    "# (1.4) vaccination strategy (1st part need to change before running)\n",
    "    vaccination_strategy        = no_vaccination,\n",
    "    vaccine_efficacy            = v_epsilon,\n",
    "    vaccine_coverage_time       = coverage_time,\n",
    "    total_time_for_greedy       = 0,\n",
    "\n",
    "# (1.5) Output form (2nd part need to change before running, choose 1 of 2)\n",
    "    output_presenting_function  = give_population_by_division # output order: S, E, R, I, C, D, Cumulated_V\n",
    "    )\n",
    "\n",
    "pure_increase_in_I_1_old = simulation_population_1_old[1]*Gammas\n",
    "plt.plot(pure_increase_in_I_1_old[0:30]), print(\"Hamilton 1st wave OLD SEIR\")"
   ]
  },
  {
   "cell_type": "code",
   "execution_count": 141,
   "id": "e8f42c79",
   "metadata": {},
   "outputs": [
    {
     "name": "stdout",
     "output_type": "stream",
     "text": [
      "Hamilton 2nd wave OLD SEIR\n"
     ]
    },
    {
     "data": {
      "text/plain": [
       "([<matplotlib.lines.Line2D at 0x23b2e3706d0>], None)"
      ]
     },
     "execution_count": 141,
     "metadata": {},
     "output_type": "execute_result"
    },
    {
     "data": {
      "image/png": "[encoded data removed]",
      "text/plain": [
       "<Figure size 432x288 with 1 Axes>"
      ]
     },
     "metadata": {
      "needs_background": "light"
     },
     "output_type": "display_data"
    }
   ],
   "source": [
    "Lambdas = 0.00001     # Infection rate 0.02 ~ 0.6\n",
    "Gammas = 1/10      # Exposed to infected rate 1/14 ~ 1/5\n",
    "Sigma_Es = 1/6     # Recovery rate for exposed 1/14\n",
    "Sigma_Is = 1/10     # Cured rate for infected 1/20 ~ 1/10\n",
    "Deltas = 0.01   # Death rate (case fatality rate) 2.3% ~ 2.6%\n",
    "p_i = 1      # proportion corresponding to sensitivity clan\n",
    "\n",
    "c_j = 12             # contact rates for different social activity level group\n",
    "p_j = 1        # proportion corresponding to contact rates\n",
    "\n",
    "T = 100        # Terminal time in week\n",
    "\n",
    "S_0 = Hamiltom_2nd_population    # Initial number of susceptible\n",
    "R_0 = 0         # Initial number of recovered from E\n",
    "I_0 = 0         # Initial number of infected \n",
    "C_0 = 0         # Initial number of recovered from R\n",
    "D_0 = 0         # Initial number of Death\n",
    "\n",
    "E_proportion = 0.0001\n",
    "E_0 = S_0 * E_proportion        # Initial number of exposed\n",
    "\n",
    "coverage_time = 100 # in weeks\n",
    "v_epsilon = 0.9\n",
    "\n",
    "simulation_population_2_old = SEIR_old_simulation(\n",
    "        \n",
    "### (1) Input       \n",
    "        \n",
    "# (1.1) Population\n",
    "    terminal_time               = T,\n",
    "    susceptible_population      = S_0,\n",
    "    exposed_population          = E_0,\n",
    "    recovered_population        = R_0,\n",
    "    infected_population         = I_0,\n",
    "    cured_population            = C_0,\n",
    "    deaded_population           = D_0,\n",
    "        \n",
    "# (1.2) contact rate & proportion\n",
    "    contact_rate                = c_j,\n",
    "    contact_rate_proportion     = p_j,   \n",
    "        \n",
    "# (1.3) sensitivity (SEIR parameters)\n",
    "    infection_rate              = Lambdas,\n",
    "    exposed_to_infected_rate    = Gammas,\n",
    "    recovery_rate_for_exposed   = Sigma_Es,\n",
    "    cured_rate_for_infected     = Sigma_Is,\n",
    "    death_rate                  = Deltas,\n",
    "    sensitivity_proportion      = p_i,\n",
    "        \n",
    "# (1.4) vaccination strategy (1st part need to change before running)\n",
    "    vaccination_strategy        = no_vaccination,\n",
    "    vaccine_efficacy            = v_epsilon,\n",
    "    vaccine_coverage_time       = coverage_time,\n",
    "    total_time_for_greedy       = 0,\n",
    "\n",
    "# (1.5) Output form (2nd part need to change before running, choose 1 of 2)\n",
    "    output_presenting_function  = give_population_by_division # output order: S, E, R, I, C, D, Cumulated_V\n",
    "    )\n",
    "\n",
    "# Plot\n",
    "pure_increase_in_I_2_old = simulation_population_2_old[1]*Gammas\n",
    "plt.plot(pure_increase_in_I_2_old[0:40]), print(\"Hamilton 2nd wave OLD SEIR\")"
   ]
  },
  {
   "cell_type": "code",
   "execution_count": 142,
   "id": "ae042e1c",
   "metadata": {},
   "outputs": [
    {
     "data": {
      "text/plain": [
       "[<matplotlib.lines.Line2D at 0x23b2fb6d670>]"
      ]
     },
     "execution_count": 142,
     "metadata": {},
     "output_type": "execute_result"
    },
    {
     "data": {
      "image/png": "[encoded data removed]",
      "text/plain": [
       "<Figure size 432x288 with 1 Axes>"
      ]
     },
     "metadata": {
      "needs_background": "light"
     },
     "output_type": "display_data"
    }
   ],
   "source": [
    "pure_increase_in_I_old = np.zeros(150)\n",
    "for t in range(len(pure_increase_in_I_1_old)):\n",
    "    pure_increase_in_I_old[t_1+t] += pure_increase_in_I_1_old[t]\n",
    "    \n",
    "for t in range(len(pure_increase_in_I_2)):\n",
    "    pure_increase_in_I_old[t_2+t] += pure_increase_in_I_2_old[t]\n",
    "    \n",
    "plt.plot(pure_increase_in_I_old)"
   ]
  },
  {
   "cell_type": "code",
   "execution_count": 146,
   "id": "80546b3b",
   "metadata": {},
   "outputs": [
    {
     "data": {
      "image/png": "[encoded data removed]",
      "text/plain": [
       "<Figure size 640x320 with 1 Axes>"
      ]
     },
     "metadata": {
      "needs_background": "light"
     },
     "output_type": "display_data"
    }
   ],
   "source": [
    "figure(figsize = (8,4), dpi = 80)\n",
    "plt.plot(pure_increase_in_I_old[0:len(Hamilton_weekly_I)], label=\"Classic SEIR\", color=\"blue\", linewidth=2, linestyle=':')\n",
    "plt.plot(pure_increase_in_I[0:len(Hamilton_weekly_I)], label=\"Multi-feature SEIR\", color=\"orange\", linewidth=2, linestyle='--')\n",
    "plt.plot(Hamilton_weekly_I, label=\"Confirmed\", color=\"red\", linewidth=2)\n",
    "plt.legend(loc = 'upper right', prop = {'size':14})\n",
    "plt.grid()\n",
    "plt.tick_params(labelsize=14)\n",
    "plt.savefig('Hamiltom county infection comparison.tiff', format='tiff', dpi=300) "
   ]
  },
  {
   "cell_type": "code",
   "execution_count": null,
   "id": "2d0e1507",
   "metadata": {},
   "outputs": [],
   "source": []
  }
 ],
 "metadata": {
  "kernelspec": {
   "display_name": "Python 3",
   "language": "python",
   "name": "python3"
  },
  "language_info": {
   "codemirror_mode": {
    "name": "ipython",
    "version": 3
   },
   "file_extension": ".py",
   "mimetype": "text/x-python",
   "name": "python",
   "nbconvert_exporter": "python",
   "pygments_lexer": "ipython3",
   "version": "3.8.8"
  }
 },
 "nbformat": 4,
 "nbformat_minor": 5
}
